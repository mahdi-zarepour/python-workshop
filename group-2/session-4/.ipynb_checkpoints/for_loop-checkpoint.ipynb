{
 "cells": [
  {
   "cell_type": "markdown",
   "id": "eee4d458-d0f8-423c-94df-1a42adb5136a",
   "metadata": {},
   "source": [
    "# Collection-Based Loop\n"
   ]
  },
  {
   "cell_type": "code",
   "execution_count": 1,
   "id": "ebe3fec7-9a7b-417a-8559-bd2c11888264",
   "metadata": {},
   "outputs": [
    {
     "name": "stdout",
     "output_type": "stream",
     "text": [
      "Game\n",
      "Cycling\n",
      "Coding\n",
      "Football\n",
      "Volleyball\n",
      "Judo\n"
     ]
    }
   ],
   "source": [
    "for item in ['Game', 'Cycling', 'Coding', 'Football', 'Volleyball', 'Judo']:\n",
    "    print(item)"
   ]
  },
  {
   "cell_type": "code",
   "execution_count": 2,
   "id": "fd592607-aa54-4576-b657-81b9097b9917",
   "metadata": {},
   "outputs": [
    {
     "name": "stdout",
     "output_type": "stream",
     "text": [
      "1 is odd\n",
      "2 is even\n",
      "3 is odd\n",
      "4 is even\n",
      "5 is odd\n",
      "6 is even\n"
     ]
    }
   ],
   "source": [
    "numbers = [1, 2, 3, 4, 5, 6]\n",
    "for item in numbers:\n",
    "    if item % 2 == 0:\n",
    "        print(item, 'is even')\n",
    "    else:\n",
    "        print(item, 'is odd')"
   ]
  },
  {
   "cell_type": "markdown",
   "id": "ab5904aa-7647-4d9f-ae39-9f392f557080",
   "metadata": {},
   "source": [
    "## range"
   ]
  },
  {
   "cell_type": "code",
   "execution_count": 17,
   "id": "1c1752bd-dfbd-48ba-aa44-36d559ecac2c",
   "metadata": {},
   "outputs": [
    {
     "data": {
      "text/plain": [
       "range(0, 7)"
      ]
     },
     "execution_count": 17,
     "metadata": {},
     "output_type": "execute_result"
    }
   ],
   "source": [
    "range_7 = range(7)\n",
    "range_7"
   ]
  },
  {
   "cell_type": "code",
   "execution_count": 20,
   "id": "d80acf8f-6b86-46a9-8540-ea6a2c501777",
   "metadata": {},
   "outputs": [
    {
     "name": "stdout",
     "output_type": "stream",
     "text": [
      "0 is even\n",
      "1 is odd\n",
      "2 is even\n",
      "3 is odd\n",
      "4 is even\n",
      "5 is odd\n",
      "6 is even\n"
     ]
    }
   ],
   "source": [
    "for i in range(7):\n",
    "    if i % 2 == 0:\n",
    "        print(i, 'is even')\n",
    "    else:\n",
    "        print(i, 'is odd')"
   ]
  },
  {
   "cell_type": "code",
   "execution_count": 21,
   "id": "1ce68958-2068-4d78-bf24-b57702d5739f",
   "metadata": {},
   "outputs": [
    {
     "data": {
      "text/plain": [
       "[0, 1, 2, 3, 4, 5, 6]"
      ]
     },
     "execution_count": 21,
     "metadata": {},
     "output_type": "execute_result"
    }
   ],
   "source": [
    "list(range_7)"
   ]
  },
  {
   "cell_type": "markdown",
   "id": "7506f6e0-58f5-4974-a31b-0b9796543b6d",
   "metadata": {},
   "source": [
    "### TypeError: 'int' object is not iterable"
   ]
  },
  {
   "cell_type": "code",
   "execution_count": 3,
   "id": "b38c34f8-2c11-4e82-86de-3733c317f050",
   "metadata": {},
   "outputs": [
    {
     "ename": "TypeError",
     "evalue": "'int' object is not iterable",
     "output_type": "error",
     "traceback": [
      "\u001b[1;31m---------------------------------------------------------------------------\u001b[0m",
      "\u001b[1;31mTypeError\u001b[0m                                 Traceback (most recent call last)",
      "Cell \u001b[1;32mIn[3], line 1\u001b[0m\n\u001b[1;32m----> 1\u001b[0m \u001b[38;5;28;01mfor\u001b[39;00m item \u001b[38;5;129;01min\u001b[39;00m \u001b[38;5;241m123\u001b[39m:\n\u001b[0;32m      2\u001b[0m     \u001b[38;5;28mprint\u001b[39m(item)\n",
      "\u001b[1;31mTypeError\u001b[0m: 'int' object is not iterable"
     ]
    }
   ],
   "source": [
    "for item in 123:\n",
    "    print(item)"
   ]
  },
  {
   "cell_type": "markdown",
   "id": "584d1356-9c7c-4fed-8fa8-e4c6ab3eec17",
   "metadata": {},
   "source": [
    "## Pass Statement"
   ]
  },
  {
   "cell_type": "code",
   "execution_count": 4,
   "id": "ce10e1b7-bf04-42a1-a42b-8a0e8e46bbbe",
   "metadata": {},
   "outputs": [
    {
     "name": "stdout",
     "output_type": "stream",
     "text": [
      "1 is odd\n",
      "3 is odd\n",
      "5 is odd\n"
     ]
    }
   ],
   "source": [
    "for item in numbers:\n",
    "    if item % 2 == 0:\n",
    "        pass\n",
    "    else:\n",
    "        print(item, 'is odd')"
   ]
  },
  {
   "cell_type": "markdown",
   "id": "74a5581f-d255-4c36-9493-6c301e6dd3fe",
   "metadata": {},
   "source": [
    "## Break Statement"
   ]
  },
  {
   "cell_type": "code",
   "execution_count": 6,
   "id": "66676bb3-b3a2-4264-9cea-beb7b18c1643",
   "metadata": {},
   "outputs": [
    {
     "name": "stdout",
     "output_type": "stream",
     "text": [
      "1\n",
      "2\n",
      "3\n"
     ]
    }
   ],
   "source": [
    "for item in numbers:\n",
    "    if item == 4:\n",
    "        break\n",
    "    else:\n",
    "        print(item)"
   ]
  }
 ],
 "metadata": {
  "kernelspec": {
   "display_name": "Python 3 (ipykernel)",
   "language": "python",
   "name": "python3"
  },
  "language_info": {
   "codemirror_mode": {
    "name": "ipython",
    "version": 3
   },
   "file_extension": ".py",
   "mimetype": "text/x-python",
   "name": "python",
   "nbconvert_exporter": "python",
   "pygments_lexer": "ipython3",
   "version": "3.12.4"
  }
 },
 "nbformat": 4,
 "nbformat_minor": 5
}
