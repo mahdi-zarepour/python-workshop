{
 "cells": [
  {
   "cell_type": "code",
   "execution_count": 7,
   "id": "1d2eeaf2-bdde-41e5-8275-3ca67f06bcac",
   "metadata": {},
   "outputs": [
    {
     "name": "stdout",
     "output_type": "stream",
     "text": [
      "1429400423040\n",
      "['Mahdi', 'Amir', 'Ali', 'last name']\n",
      "1429400425344\n",
      "['Fatemeh', 'Mona', 'Nahid', 'last name']\n"
     ]
    }
   ],
   "source": [
    "\n",
    "def names_list(names=[]):\n",
    "    print(id(names))\n",
    "    names.append('last name')\n",
    "    print(names)\n",
    "\n",
    "# everything is good!\n",
    "names_list(['Mahdi', 'Amir', 'Ali'])\n",
    "names_list(['Fatemeh', 'Mona', 'Nahid'])\n",
    "\n",
    "# but ...\n",
    "# names_list()\n",
    "# names_list()\n",
    "# names_list()\n"
   ]
  },
  {
   "cell_type": "markdown",
   "id": "a239fd70-0a95-40e1-998b-3576a0aa9328",
   "metadata": {},
   "source": [
    "# Function"
   ]
  },
  {
   "cell_type": "code",
   "execution_count": 8,
   "id": "5558a397-8aa6-4d52-94db-d754c0f57668",
   "metadata": {},
   "outputs": [],
   "source": [
    "def say_hello():\n",
    "    print('Hello !!!')"
   ]
  },
  {
   "cell_type": "code",
   "execution_count": 9,
   "id": "d851402e-c619-475e-a9b4-b48a3fc5ce05",
   "metadata": {},
   "outputs": [
    {
     "name": "stdout",
     "output_type": "stream",
     "text": [
      "Hello !!!\n"
     ]
    }
   ],
   "source": [
    "say_hello()"
   ]
  },
  {
   "cell_type": "code",
   "execution_count": 11,
   "id": "40b586e0-c5e5-401e-8740-2542e717d921",
   "metadata": {},
   "outputs": [],
   "source": [
    "def say_goodbye():\n",
    "    print('Goodbye ...')"
   ]
  },
  {
   "cell_type": "code",
   "execution_count": 12,
   "id": "a8d5a5b4-47c6-44a3-95e9-eacfacb29d4d",
   "metadata": {},
   "outputs": [
    {
     "name": "stdout",
     "output_type": "stream",
     "text": [
      "Goodbye ...\n"
     ]
    }
   ],
   "source": [
    "say_goodbye()"
   ]
  },
  {
   "cell_type": "markdown",
   "id": "112e106e-0cff-44e6-a678-7a1ac83def39",
   "metadata": {},
   "source": [
    "## Positional arguments or Required arguments"
   ]
  },
  {
   "cell_type": "code",
   "execution_count": 13,
   "id": "1dd0dcc5-a01c-4bf6-a832-1ba46baabbf2",
   "metadata": {},
   "outputs": [],
   "source": [
    "def f(x):\n",
    "    print(x)"
   ]
  },
  {
   "cell_type": "code",
   "execution_count": 14,
   "id": "90aaee72-0c0c-4570-8d93-75e1c5a3030c",
   "metadata": {},
   "outputs": [
    {
     "name": "stdout",
     "output_type": "stream",
     "text": [
      "15\n"
     ]
    }
   ],
   "source": [
    "f(15)"
   ]
  },
  {
   "cell_type": "code",
   "execution_count": 15,
   "id": "9e99215e-fc83-44cd-a83a-466bd4b30350",
   "metadata": {},
   "outputs": [],
   "source": [
    "def car_price(car_name, price):\n",
    "    print(car_name, 'cost', price)"
   ]
  },
  {
   "cell_type": "code",
   "execution_count": 16,
   "id": "bda41b0e-1a95-46a7-8adf-f1e5dd96a83a",
   "metadata": {},
   "outputs": [
    {
     "name": "stdout",
     "output_type": "stream",
     "text": [
      "Pride cost 0\n"
     ]
    }
   ],
   "source": [
    "car_price('Pride', 0)"
   ]
  },
  {
   "cell_type": "code",
   "execution_count": 18,
   "id": "3cf44b38-6d63-4d83-a65f-dea0b383127f",
   "metadata": {},
   "outputs": [
    {
     "name": "stdout",
     "output_type": "stream",
     "text": [
      "1000 cost Cerato\n"
     ]
    }
   ],
   "source": [
    "# Arguments order\n",
    "car_price(1000, 'Cerato')"
   ]
  },
  {
   "cell_type": "code",
   "execution_count": 19,
   "id": "fdc62335-55b4-44ef-a2b4-55dcf95116b3",
   "metadata": {},
   "outputs": [
    {
     "ename": "TypeError",
     "evalue": "car_price() missing 1 required positional argument: 'price'",
     "output_type": "error",
     "traceback": [
      "\u001b[1;31m---------------------------------------------------------------------------\u001b[0m",
      "\u001b[1;31mTypeError\u001b[0m                                 Traceback (most recent call last)",
      "Cell \u001b[1;32mIn[19], line 2\u001b[0m\n\u001b[0;32m      1\u001b[0m \u001b[38;5;66;03m# TypeError: missing 1 \"required positional argument\"\u001b[39;00m\n\u001b[1;32m----> 2\u001b[0m car_price(\u001b[38;5;124m'\u001b[39m\u001b[38;5;124mCerato\u001b[39m\u001b[38;5;124m'\u001b[39m)\n",
      "\u001b[1;31mTypeError\u001b[0m: car_price() missing 1 required positional argument: 'price'"
     ]
    }
   ],
   "source": [
    "# TypeError: missing 1 \"required positional argument\"\n",
    "car_price('Cerato')"
   ]
  },
  {
   "cell_type": "code",
   "execution_count": 20,
   "id": "ee2f6fcf-ea72-438e-8bfd-207294253151",
   "metadata": {},
   "outputs": [
    {
     "ename": "TypeError",
     "evalue": "car_price() takes 2 positional arguments but 3 were given",
     "output_type": "error",
     "traceback": [
      "\u001b[1;31m---------------------------------------------------------------------------\u001b[0m",
      "\u001b[1;31mTypeError\u001b[0m                                 Traceback (most recent call last)",
      "Cell \u001b[1;32mIn[20], line 2\u001b[0m\n\u001b[0;32m      1\u001b[0m \u001b[38;5;66;03m# TypeError: takes 2 \"positional arguments\" but 3 were given\u001b[39;00m\n\u001b[1;32m----> 2\u001b[0m car_price(\u001b[38;5;124m'\u001b[39m\u001b[38;5;124mCerato\u001b[39m\u001b[38;5;124m'\u001b[39m, \u001b[38;5;241m1000\u001b[39m, \u001b[38;5;124m'\u001b[39m\u001b[38;5;124mHA HA HA\u001b[39m\u001b[38;5;124m'\u001b[39m)\n",
      "\u001b[1;31mTypeError\u001b[0m: car_price() takes 2 positional arguments but 3 were given"
     ]
    }
   ],
   "source": [
    "# TypeError: takes 2 \"positional arguments\" but 3 were given\n",
    "car_price('Cerato', 1000, 'HA HA HA')"
   ]
  },
  {
   "cell_type": "markdown",
   "id": "676ef9d5-750a-4063-bff5-dbac0c6a8263",
   "metadata": {},
   "source": [
    "## Keyword arguments\n",
    "lifts the restriction on argument order but  the number of arguments and parameters must still match"
   ]
  },
  {
   "cell_type": "code",
   "execution_count": 27,
   "id": "5631b9fb-9b1c-4ca5-b08f-8f7859ecb569",
   "metadata": {},
   "outputs": [],
   "source": [
    "def full_name(first_name, last_name, age):\n",
    "    print('Your First Name: ', first_name)\n",
    "    print('Your Last Name: ', last_name)\n",
    "    print('Your Age: ', age)"
   ]
  },
  {
   "cell_type": "code",
   "execution_count": 28,
   "id": "3ecce9ac-31c4-4a6c-ad3f-4c97dfa2247d",
   "metadata": {},
   "outputs": [
    {
     "name": "stdout",
     "output_type": "stream",
     "text": [
      "Your First Name:  Mahdi\n",
      "Your Last Name:  Zarepour\n",
      "Your Age:  22\n"
     ]
    }
   ],
   "source": [
    "full_name(last_name='Zarepour', first_name='Mahdi', age=22)"
   ]
  },
  {
   "cell_type": "code",
   "execution_count": 29,
   "id": "40c034a2-d04b-496e-8bc0-cbc2e363d051",
   "metadata": {},
   "outputs": [
    {
     "ename": "SyntaxError",
     "evalue": "positional argument follows keyword argument (3951455480.py, line 1)",
     "output_type": "error",
     "traceback": [
      "\u001b[1;36m  Cell \u001b[1;32mIn[29], line 1\u001b[1;36m\u001b[0m\n\u001b[1;33m    full_name(last_name='Zarepour', first_name='Mahdi', 22)\u001b[0m\n\u001b[1;37m                                                          ^\u001b[0m\n\u001b[1;31mSyntaxError\u001b[0m\u001b[1;31m:\u001b[0m positional argument follows keyword argument\n"
     ]
    }
   ],
   "source": [
    "full_name(last_name='Zarepour', first_name='Mahdi', 22)"
   ]
  },
  {
   "cell_type": "markdown",
   "id": "bd637fef-e4f7-4cdc-8fd4-a761b20fc71b",
   "metadata": {},
   "source": [
    "## default parameters"
   ]
  },
  {
   "cell_type": "code",
   "execution_count": 30,
   "id": "6c7ad729-ec18-423c-90cb-bb43b4c0c29b",
   "metadata": {},
   "outputs": [],
   "source": [
    "def power(x, p=2):\n",
    "    print(x ** p)"
   ]
  },
  {
   "cell_type": "code",
   "execution_count": 31,
   "id": "2fd50b9c-4017-4e4a-b550-ba9d0abe757d",
   "metadata": {},
   "outputs": [
    {
     "name": "stdout",
     "output_type": "stream",
     "text": [
      "32\n"
     ]
    }
   ],
   "source": [
    "power(2, 5)"
   ]
  },
  {
   "cell_type": "code",
   "execution_count": 32,
   "id": "bf619613-fab5-4ade-8abc-96e71f9bc7dd",
   "metadata": {},
   "outputs": [
    {
     "name": "stdout",
     "output_type": "stream",
     "text": [
      "4\n"
     ]
    }
   ],
   "source": [
    "power(2)"
   ]
  },
  {
   "cell_type": "code",
   "execution_count": 33,
   "id": "9c7eef58-b344-4125-88eb-b0f156f72f80",
   "metadata": {},
   "outputs": [
    {
     "ename": "SyntaxError",
     "evalue": "parameter without a default follows parameter with a default (3341060260.py, line 1)",
     "output_type": "error",
     "traceback": [
      "\u001b[1;36m  Cell \u001b[1;32mIn[33], line 1\u001b[1;36m\u001b[0m\n\u001b[1;33m    def addition(a=1, b): # SyntaxError: parameter without a default follows parameter with a default\u001b[0m\n\u001b[1;37m                      ^\u001b[0m\n\u001b[1;31mSyntaxError\u001b[0m\u001b[1;31m:\u001b[0m parameter without a default follows parameter with a default\n"
     ]
    }
   ],
   "source": [
    "def addition(a=1, b): # SyntaxError: parameter without a default follows parameter with a default\n",
    "    print(a + b)"
   ]
  }
 ],
 "metadata": {
  "kernelspec": {
   "display_name": "Python 3 (ipykernel)",
   "language": "python",
   "name": "python3"
  },
  "language_info": {
   "codemirror_mode": {
    "name": "ipython",
    "version": 3
   },
   "file_extension": ".py",
   "mimetype": "text/x-python",
   "name": "python",
   "nbconvert_exporter": "python",
   "pygments_lexer": "ipython3",
   "version": "3.12.4"
  }
 },
 "nbformat": 4,
 "nbformat_minor": 5
}
