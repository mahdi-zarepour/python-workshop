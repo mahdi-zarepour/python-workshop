{
 "cells": [
  {
   "cell_type": "markdown",
   "id": "d8e8abc3-fd6d-4b22-a0bd-2c4a8564372d",
   "metadata": {},
   "source": [
    "# Conditional Statement"
   ]
  },
  {
   "cell_type": "code",
   "execution_count": 2,
   "id": "db408a49-f981-468d-b71e-f75a02c26b36",
   "metadata": {},
   "outputs": [
    {
     "name": "stdin",
     "output_type": "stream",
     "text": [
      "Enter your age:  18\n"
     ]
    }
   ],
   "source": [
    "age = float(input('Enter your age: '))"
   ]
  },
  {
   "cell_type": "markdown",
   "id": "0c75b182-b0aa-47b3-8222-88bee61a9120",
   "metadata": {},
   "source": [
    "## if"
   ]
  },
  {
   "cell_type": "code",
   "execution_count": 3,
   "id": "7593b7d5-77cf-4377-bb50-1c0ef04fa8f2",
   "metadata": {},
   "outputs": [],
   "source": [
    "if (age > 18): # <expr>\n",
    "    print('You are adult') # <statement>"
   ]
  },
  {
   "cell_type": "markdown",
   "id": "85495bee-ce4b-43f8-9350-6a0533bae5e2",
   "metadata": {},
   "source": [
    "## if-else"
   ]
  },
  {
   "cell_type": "code",
   "execution_count": 4,
   "id": "718a66a7-e793-49cc-8c8a-2e030bfc3ca8",
   "metadata": {},
   "outputs": [
    {
     "name": "stdout",
     "output_type": "stream",
     "text": [
      "You are under the legal age\n"
     ]
    }
   ],
   "source": [
    "if age > 18: # <expr>\n",
    "    print('You are adult') # <statement>\n",
    "else:\n",
    "    print('You are under the legal age') # <statement>"
   ]
  },
  {
   "cell_type": "markdown",
   "id": "93dae279-39a3-4942-9cbc-b26fba7c5370",
   "metadata": {},
   "source": [
    "## if-elif-else"
   ]
  },
  {
   "cell_type": "code",
   "execution_count": 6,
   "id": "0744199d-5f96-467d-bb04-adc5cdc94953",
   "metadata": {},
   "outputs": [
    {
     "name": "stdin",
     "output_type": "stream",
     "text": [
      "Enter your math score:  20\n"
     ]
    }
   ],
   "source": [
    "score = float(input('Enter your math score: '))"
   ]
  },
  {
   "cell_type": "code",
   "execution_count": 17,
   "id": "591ae0d8-c824-4dff-ac1f-6ab1be312190",
   "metadata": {},
   "outputs": [
    {
     "name": "stdout",
     "output_type": "stream",
     "text": [
      "You are great!\n"
     ]
    }
   ],
   "source": [
    "if score < 10:\n",
    "    print('Fail')\n",
    "elif (score > 10) and (score < 15):\n",
    "    print('You are good student')\n",
    "else:\n",
    "    print('You are great!')"
   ]
  },
  {
   "cell_type": "markdown",
   "id": "3a2d969e-dc69-4284-be88-a330a780e4a8",
   "metadata": {},
   "source": [
    "## More Examples"
   ]
  },
  {
   "cell_type": "code",
   "execution_count": 9,
   "id": "4d67ea92-cb97-4e2a-b1bf-bfd2efbc8179",
   "metadata": {},
   "outputs": [],
   "source": [
    "names = [\n",
    "    'Mahdi', 'Ali', 'Fatemeh', 'Zahra', 'Zare', 'Alavie', 'Hasanie'\n",
    "]"
   ]
  },
  {
   "cell_type": "code",
   "execution_count": 15,
   "id": "95ffddf1-f5f8-422e-be6b-26fd303eae95",
   "metadata": {},
   "outputs": [
    {
     "name": "stdin",
     "output_type": "stream",
     "text": [
      "Enter your first name:  Test\n",
      "Enter your last name:  Test\n"
     ]
    }
   ],
   "source": [
    "first_name = input('Enter your first name: ')\n",
    "last_name = input('Enter your last name: ')"
   ]
  },
  {
   "cell_type": "code",
   "execution_count": 16,
   "id": "190e4272-070d-4b64-9371-347e5943e44a",
   "metadata": {},
   "outputs": [
    {
     "name": "stdout",
     "output_type": "stream",
     "text": [
      "Who are you?\n"
     ]
    }
   ],
   "source": [
    "if (first_name in names) or (last_name in names):\n",
    "    print(first_name, last_name)\n",
    "else:\n",
    "    print('Who are you?')"
   ]
  },
  {
   "cell_type": "code",
   "execution_count": 21,
   "id": "286b293c-3252-4402-9741-5fb5d3ef36d7",
   "metadata": {},
   "outputs": [
    {
     "name": "stdout",
     "output_type": "stream",
     "text": [
      "1 is True\n"
     ]
    }
   ],
   "source": [
    "if 1:\n",
    "    print('1 is True')\n",
    "elif 1 / 0:\n",
    "    print('ZeroDivisionError: division by zero')\n",
    "else:\n",
    "    print(variable)"
   ]
  }
 ],
 "metadata": {
  "kernelspec": {
   "display_name": "Python 3 (ipykernel)",
   "language": "python",
   "name": "python3"
  },
  "language_info": {
   "codemirror_mode": {
    "name": "ipython",
    "version": 3
   },
   "file_extension": ".py",
   "mimetype": "text/x-python",
   "name": "python",
   "nbconvert_exporter": "python",
   "pygments_lexer": "ipython3",
   "version": "3.12.4"
  }
 },
 "nbformat": 4,
 "nbformat_minor": 5
}
