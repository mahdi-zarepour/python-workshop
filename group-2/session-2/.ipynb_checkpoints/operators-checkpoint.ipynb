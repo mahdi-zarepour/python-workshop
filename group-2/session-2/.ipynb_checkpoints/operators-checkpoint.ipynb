{
 "cells": [
  {
   "cell_type": "markdown",
   "id": "3acb1323-4495-4368-accb-7da8cbf1962d",
   "metadata": {
    "jp-MarkdownHeadingCollapsed": true
   },
   "source": [
    "# Arithmetic Operators\n",
    "How to perform mathematical calculations in Python"
   ]
  },
  {
   "cell_type": "code",
   "execution_count": 5,
   "id": "62075598-752b-4fcf-bcb4-72c92bc0595e",
   "metadata": {},
   "outputs": [],
   "source": [
    "positive_number = +10\n",
    "negative_number = -5"
   ]
  },
  {
   "cell_type": "code",
   "execution_count": 6,
   "id": "bbc9aedc-f487-4951-9133-2a5531957217",
   "metadata": {},
   "outputs": [
    {
     "data": {
      "text/plain": [
       "(10, -5)"
      ]
     },
     "execution_count": 6,
     "metadata": {},
     "output_type": "execute_result"
    }
   ],
   "source": [
    "positive_number, negative_number"
   ]
  },
  {
   "cell_type": "code",
   "execution_count": 3,
   "id": "81a10841-ff9d-4c3d-b56d-ff7fe440d290",
   "metadata": {},
   "outputs": [],
   "source": [
    "sum = 10 + 5\n",
    "subtraction = 10 - 5"
   ]
  },
  {
   "cell_type": "code",
   "execution_count": 4,
   "id": "119ce177-3427-4d53-b89a-8d864e96cb13",
   "metadata": {},
   "outputs": [
    {
     "data": {
      "text/plain": [
       "(15, 5)"
      ]
     },
     "execution_count": 4,
     "metadata": {},
     "output_type": "execute_result"
    }
   ],
   "source": [
    "sum, subtraction"
   ]
  },
  {
   "cell_type": "code",
   "execution_count": 7,
   "id": "ece8de68-094c-46d9-89a8-79a0a29020c8",
   "metadata": {},
   "outputs": [],
   "source": [
    "multiplication = 10 * 5\n",
    "division = 10 / 5"
   ]
  },
  {
   "cell_type": "code",
   "execution_count": 8,
   "id": "7349742b-4b8b-48e7-9492-4aa858ac5336",
   "metadata": {},
   "outputs": [
    {
     "data": {
      "text/plain": [
       "(50, 2.0)"
      ]
     },
     "execution_count": 8,
     "metadata": {},
     "output_type": "execute_result"
    }
   ],
   "source": [
    "multiplication, division"
   ]
  },
  {
   "cell_type": "code",
   "execution_count": 9,
   "id": "532c07b9-f441-4bd4-bb09-0ed023d24735",
   "metadata": {},
   "outputs": [],
   "source": [
    "mod = 10 % 5\n",
    "integer_division = 12.5 // 5\n",
    "power = 10 ** 5"
   ]
  },
  {
   "cell_type": "code",
   "execution_count": 10,
   "id": "a7935f7d-383c-4500-b7f7-18d63962f9d3",
   "metadata": {},
   "outputs": [
    {
     "data": {
      "text/plain": [
       "(0, 2.0, 100000)"
      ]
     },
     "execution_count": 10,
     "metadata": {},
     "output_type": "execute_result"
    }
   ],
   "source": [
    "mod, integer_division, power"
   ]
  },
  {
   "cell_type": "markdown",
   "id": "90b33e2a-68ea-40e3-a5d8-ce9a0ac82d7a",
   "metadata": {
    "jp-MarkdownHeadingCollapsed": true
   },
   "source": [
    "# Comparison Operators"
   ]
  },
  {
   "cell_type": "code",
   "execution_count": 11,
   "id": "be1f8df0-b6de-4b9a-84ce-f6d38d3db7f3",
   "metadata": {},
   "outputs": [],
   "source": [
    "less_than = 10 < 2\n",
    "greater_than = 10 > 2"
   ]
  },
  {
   "cell_type": "code",
   "execution_count": 12,
   "id": "9d391699-25a5-46a9-9494-f5dbe703eb45",
   "metadata": {},
   "outputs": [
    {
     "data": {
      "text/plain": [
       "(False, True)"
      ]
     },
     "execution_count": 12,
     "metadata": {},
     "output_type": "execute_result"
    }
   ],
   "source": [
    "less_than, greater_than"
   ]
  },
  {
   "cell_type": "code",
   "execution_count": 13,
   "id": "fa0b8af9-3dbe-42d6-9a66-76e62daa8dbe",
   "metadata": {},
   "outputs": [],
   "source": [
    "less_than_or_equal_to = 20 <= 1\n",
    "greater_than_or_equal_to = 20 >= 1"
   ]
  },
  {
   "cell_type": "code",
   "execution_count": 14,
   "id": "e54b3d7c-f3e4-4b42-bf43-4315e4ec7ec3",
   "metadata": {},
   "outputs": [
    {
     "data": {
      "text/plain": [
       "(False, True)"
      ]
     },
     "execution_count": 14,
     "metadata": {},
     "output_type": "execute_result"
    }
   ],
   "source": [
    "less_than_or_equal_to, greater_than_or_equal_to"
   ]
  },
  {
   "cell_type": "code",
   "execution_count": 15,
   "id": "8a7c843f-e9c7-4b65-a958-f4dcb55e15a6",
   "metadata": {},
   "outputs": [],
   "source": [
    "equal_to = 1 == 1\n",
    "not_equal_to = 1 != 0"
   ]
  },
  {
   "cell_type": "code",
   "execution_count": 16,
   "id": "376265b7-d591-4181-876d-cdfe074cc94e",
   "metadata": {},
   "outputs": [
    {
     "data": {
      "text/plain": [
       "(True, True)"
      ]
     },
     "execution_count": 16,
     "metadata": {},
     "output_type": "execute_result"
    }
   ],
   "source": [
    "equal_to, not_equal_to"
   ]
  },
  {
   "cell_type": "markdown",
   "id": "8b680920-9e6a-4675-ad31-b7d5e59b9cdc",
   "metadata": {
    "jp-MarkdownHeadingCollapsed": true
   },
   "source": [
    "# Logical Operators"
   ]
  },
  {
   "cell_type": "code",
   "execution_count": 17,
   "id": "a9e3ee60-a1ac-4db2-9c40-494203e3ca73",
   "metadata": {},
   "outputs": [],
   "source": [
    "p1 = True and True\n",
    "p2 = True and False\n",
    "p3 = False and True\n",
    "p4 = False and False"
   ]
  },
  {
   "cell_type": "code",
   "execution_count": 18,
   "id": "09e36093-bab2-4a88-8966-ed9c32601501",
   "metadata": {},
   "outputs": [
    {
     "data": {
      "text/plain": [
       "(True, False, False, False)"
      ]
     },
     "execution_count": 18,
     "metadata": {},
     "output_type": "execute_result"
    }
   ],
   "source": [
    "p1, p2, p3, p4"
   ]
  },
  {
   "cell_type": "code",
   "execution_count": 21,
   "id": "5a5079f0-2fe2-4402-921a-08ceb5da6166",
   "metadata": {},
   "outputs": [],
   "source": [
    "r1 = True or True\n",
    "r2 = True or False\n",
    "r3 = False or True\n",
    "r4 = False or False"
   ]
  },
  {
   "cell_type": "code",
   "execution_count": 22,
   "id": "71c1650b-8b4b-4762-bbc6-7c7a84fed4ad",
   "metadata": {},
   "outputs": [
    {
     "data": {
      "text/plain": [
       "(True, True, True, False)"
      ]
     },
     "execution_count": 22,
     "metadata": {},
     "output_type": "execute_result"
    }
   ],
   "source": [
    "r1, r2, r3, r4"
   ]
  },
  {
   "cell_type": "code",
   "execution_count": 23,
   "id": "d9ce92b1-39d9-464e-b564-5cced3bbb6c1",
   "metadata": {},
   "outputs": [],
   "source": [
    "n1 = not True\n",
    "n2 = not False"
   ]
  },
  {
   "cell_type": "code",
   "execution_count": 24,
   "id": "7a5012f2-09d9-46d4-aad6-614337402126",
   "metadata": {},
   "outputs": [
    {
     "data": {
      "text/plain": [
       "(False, True)"
      ]
     },
     "execution_count": 24,
     "metadata": {},
     "output_type": "execute_result"
    }
   ],
   "source": [
    "n1, n2"
   ]
  },
  {
   "cell_type": "markdown",
   "id": "2010be5c-1008-4aea-add0-77cc6d289295",
   "metadata": {
    "jp-MarkdownHeadingCollapsed": true
   },
   "source": [
    "# Assignment Operators"
   ]
  },
  {
   "cell_type": "code",
   "execution_count": 27,
   "id": "65fef57f-8dd5-4848-8073-23d73cfcb37e",
   "metadata": {},
   "outputs": [],
   "source": [
    "x = 10\n",
    "y = 20"
   ]
  },
  {
   "cell_type": "code",
   "execution_count": 28,
   "id": "cc046a7a-fdbf-478a-bbd8-575fcdcd7c2a",
   "metadata": {},
   "outputs": [
    {
     "data": {
      "text/plain": [
       "(10, 20)"
      ]
     },
     "execution_count": 28,
     "metadata": {},
     "output_type": "execute_result"
    }
   ],
   "source": [
    "x, y"
   ]
  },
  {
   "cell_type": "code",
   "execution_count": 26,
   "id": "a2e2a5b3-29fd-4cad-8cc1-c6fa176e4685",
   "metadata": {},
   "outputs": [],
   "source": [
    "x += y\n",
    "y *= x"
   ]
  },
  {
   "cell_type": "markdown",
   "id": "3e441b63-7366-4899-9f69-5ae9de76f66b",
   "metadata": {
    "jp-MarkdownHeadingCollapsed": true
   },
   "source": [
    "# Identity Operators\n",
    "\n",
    "*Operators*:\n",
    "\n",
    "    > is: True if x and y hold a reference to the same in-memory object\n",
    "    > is not: True if x points to an object different from the object that y points to."
   ]
  },
  {
   "cell_type": "code",
   "execution_count": 29,
   "id": "7d2f2ef7-a176-4eb2-9ef7-e6e5caee8764",
   "metadata": {},
   "outputs": [],
   "source": [
    "num1 = 10\n",
    "num2 = 10"
   ]
  },
  {
   "cell_type": "code",
   "execution_count": 30,
   "id": "f9ae9d97-465a-4a4e-8e02-4da715e0407e",
   "metadata": {},
   "outputs": [
    {
     "data": {
      "text/plain": [
       "(140724043594456, 140724043594456)"
      ]
     },
     "execution_count": 30,
     "metadata": {},
     "output_type": "execute_result"
    }
   ],
   "source": [
    "id(num1), id(num2)"
   ]
  },
  {
   "cell_type": "code",
   "execution_count": 31,
   "id": "fb4af3d9-ab56-4595-8dc0-fec7984e0782",
   "metadata": {},
   "outputs": [
    {
     "data": {
      "text/plain": [
       "True"
      ]
     },
     "execution_count": 31,
     "metadata": {},
     "output_type": "execute_result"
    }
   ],
   "source": [
    "num1 is num2"
   ]
  },
  {
   "cell_type": "code",
   "execution_count": 32,
   "id": "7c70c8d3-8fe3-47ff-82b7-b5470dbf5068",
   "metadata": {},
   "outputs": [
    {
     "data": {
      "text/plain": [
       "True"
      ]
     },
     "execution_count": 32,
     "metadata": {},
     "output_type": "execute_result"
    }
   ],
   "source": [
    "num1 == num2"
   ]
  },
  {
   "cell_type": "code",
   "execution_count": 33,
   "id": "80176699-4ddc-41f4-95cd-7980775dc5b9",
   "metadata": {},
   "outputs": [],
   "source": [
    "list1 = [1, 2, 3]\n",
    "list2 = [1, 2, 3]"
   ]
  },
  {
   "cell_type": "code",
   "execution_count": 34,
   "id": "d9708436-a5e1-459a-be99-4382172e6bb0",
   "metadata": {},
   "outputs": [
    {
     "data": {
      "text/plain": [
       "(2232190902592, 2232190997248)"
      ]
     },
     "execution_count": 34,
     "metadata": {},
     "output_type": "execute_result"
    }
   ],
   "source": [
    "id(list1), id(list2)"
   ]
  },
  {
   "cell_type": "code",
   "execution_count": 35,
   "id": "e7c6d2cb-de2f-4961-8e1f-9585e96ebffc",
   "metadata": {},
   "outputs": [
    {
     "data": {
      "text/plain": [
       "False"
      ]
     },
     "execution_count": 35,
     "metadata": {},
     "output_type": "execute_result"
    }
   ],
   "source": [
    "list1 is list2"
   ]
  },
  {
   "cell_type": "code",
   "execution_count": 36,
   "id": "b2d6f29e-9429-4029-816c-34c2f7eebe00",
   "metadata": {},
   "outputs": [
    {
     "data": {
      "text/plain": [
       "True"
      ]
     },
     "execution_count": 36,
     "metadata": {},
     "output_type": "execute_result"
    }
   ],
   "source": [
    "list1 == list2"
   ]
  },
  {
   "cell_type": "markdown",
   "id": "a7d1be92-6bc6-4bfa-9f06-4e3130a3a952",
   "metadata": {
    "jp-MarkdownHeadingCollapsed": true
   },
   "source": [
    "# Membership Operators\n",
    "\n",
    "*Operators*\n",
    "\n",
    "    > in: True if value is present in collection.\n",
    "    > not in: True if value is not present in collection of values."
   ]
  },
  {
   "cell_type": "code",
   "execution_count": 37,
   "id": "d4806123-8d1b-472d-aae9-9fa36d4ec6f2",
   "metadata": {},
   "outputs": [],
   "source": [
    "name = 'Mahdi'"
   ]
  },
  {
   "cell_type": "code",
   "execution_count": 39,
   "id": "3a024b18-b090-46b6-916d-4c051cfae09f",
   "metadata": {},
   "outputs": [
    {
     "data": {
      "text/plain": [
       "(True, False)"
      ]
     },
     "execution_count": 39,
     "metadata": {},
     "output_type": "execute_result"
    }
   ],
   "source": [
    "'M' in name, 'Z' in name"
   ]
  },
  {
   "cell_type": "code",
   "execution_count": 42,
   "id": "062fc37d-535e-447b-9f39-e397f228d833",
   "metadata": {},
   "outputs": [],
   "source": [
    "names = ['Fatemeh', 'Ali', 'Zahra', 'Sarah']"
   ]
  },
  {
   "cell_type": "code",
   "execution_count": 43,
   "id": "e6de2493-57ab-4722-bdf0-711330dcb3dc",
   "metadata": {},
   "outputs": [
    {
     "data": {
      "text/plain": [
       "(True, False)"
      ]
     },
     "execution_count": 43,
     "metadata": {},
     "output_type": "execute_result"
    }
   ],
   "source": [
    "'Zahra' in names, 'Reza' in names"
   ]
  }
 ],
 "metadata": {
  "kernelspec": {
   "display_name": "Python 3 (ipykernel)",
   "language": "python",
   "name": "python3"
  },
  "language_info": {
   "codemirror_mode": {
    "name": "ipython",
    "version": 3
   },
   "file_extension": ".py",
   "mimetype": "text/x-python",
   "name": "python",
   "nbconvert_exporter": "python",
   "pygments_lexer": "ipython3",
   "version": "3.12.4"
  }
 },
 "nbformat": 4,
 "nbformat_minor": 5
}
