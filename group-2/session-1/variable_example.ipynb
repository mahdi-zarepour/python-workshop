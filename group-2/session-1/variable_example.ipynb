{
 "cells": [
  {
   "cell_type": "markdown",
   "id": "2ec00c02-36dc-4d74-9757-7dba89811d60",
   "metadata": {
    "jp-MarkdownHeadingCollapsed": true
   },
   "source": [
    "# Temporary Data Storage\n",
    "Variable act like 'container' that hold different types of value (numbers, text, objects, etc)"
   ]
  },
  {
   "cell_type": "code",
   "execution_count": 1,
   "id": "19f3244e-b8a3-4d0c-a4c4-937de5e9b2b5",
   "metadata": {},
   "outputs": [],
   "source": [
    "# personal information\n",
    "name = 'Fatemeh'\n",
    "age = 25\n",
    "height = 164.8\n",
    "job = 'developer'"
   ]
  },
  {
   "cell_type": "code",
   "execution_count": 2,
   "id": "a6bfca05-6ed8-4c7e-9b54-167f7744fbbe",
   "metadata": {},
   "outputs": [
    {
     "data": {
      "text/plain": [
       "('Fatemeh', 25, 'developer')"
      ]
     },
     "execution_count": 2,
     "metadata": {},
     "output_type": "execute_result"
    }
   ],
   "source": [
    "name, age, job"
   ]
  },
  {
   "cell_type": "markdown",
   "id": "5a978b05-5468-42ab-a8fd-bd3a1624c218",
   "metadata": {
    "jp-MarkdownHeadingCollapsed": true
   },
   "source": [
    "# Referencing Data with readable names\n",
    "Instead of hardcoding values, variables provide meaningful names, improving code readbility"
   ]
  },
  {
   "cell_type": "code",
   "execution_count": 5,
   "id": "e8b84648-ae1d-444d-ab37-813d567e8972",
   "metadata": {},
   "outputs": [],
   "source": [
    "tax = 0.2\n",
    "salary = 10000\n",
    "pure_income = salary - (salary * tax)"
   ]
  },
  {
   "cell_type": "code",
   "execution_count": 6,
   "id": "4bbc4e28-62e1-41fc-9991-34d4c46d869e",
   "metadata": {},
   "outputs": [
    {
     "data": {
      "text/plain": [
       "8000.0"
      ]
     },
     "execution_count": 6,
     "metadata": {},
     "output_type": "execute_result"
    }
   ],
   "source": [
    "pure_income"
   ]
  },
  {
   "cell_type": "code",
   "execution_count": 7,
   "id": "62447d72-a221-4ce7-9634-10e649a57d3c",
   "metadata": {},
   "outputs": [],
   "source": [
    "# hardcoding\n",
    "pure_income = salary - (salary * 0.2) # This is called the magic number!"
   ]
  },
  {
   "cell_type": "markdown",
   "id": "6bc20866-7716-4bcd-83ee-2892e59d7e0c",
   "metadata": {
    "jp-MarkdownHeadingCollapsed": true
   },
   "source": [
    "# Reusability of data\n",
    "A variable can be reused across different parts if a program without repeating the value"
   ]
  },
  {
   "cell_type": "code",
   "execution_count": 1,
   "id": "60c6f4c9-964b-45ae-b2e2-db5630c3d8ab",
   "metadata": {},
   "outputs": [],
   "source": [
    "pi = 3.14\n",
    "raduis = 5\n",
    "area = pi * (raduis ** 2)\n",
    "circumference = 2 * pi * raduis"
   ]
  },
  {
   "cell_type": "markdown",
   "id": "0055e3c8-439e-4bb0-9287-887e69491654",
   "metadata": {
    "jp-MarkdownHeadingCollapsed": true
   },
   "source": [
    "# Controlling program flow\n",
    "Variables are used in conditions, loops and functions to control logic"
   ]
  },
  {
   "cell_type": "code",
   "execution_count": 4,
   "id": "ec5e192b-3061-4b55-87dd-efe273a97b58",
   "metadata": {},
   "outputs": [
    {
     "name": "stdin",
     "output_type": "stream",
     "text": [
      "Enter your age:  22\n"
     ]
    },
    {
     "name": "stdout",
     "output_type": "stream",
     "text": [
      "Adult\n"
     ]
    }
   ],
   "source": [
    "age = int(input('Enter your age: '))\n",
    "\n",
    "if age >= 18:\n",
    "    print('Adult')\n",
    "else:\n",
    "    print('Need permission')"
   ]
  },
  {
   "cell_type": "code",
   "execution_count": null,
   "id": "4f325f33-64e1-43a7-85a4-0f176c78edee",
   "metadata": {},
   "outputs": [],
   "source": []
  }
 ],
 "metadata": {
  "kernelspec": {
   "display_name": "Python 3 (ipykernel)",
   "language": "python",
   "name": "python3"
  },
  "language_info": {
   "codemirror_mode": {
    "name": "ipython",
    "version": 3
   },
   "file_extension": ".py",
   "mimetype": "text/x-python",
   "name": "python",
   "nbconvert_exporter": "python",
   "pygments_lexer": "ipython3",
   "version": "3.12.4"
  }
 },
 "nbformat": 4,
 "nbformat_minor": 5
}
