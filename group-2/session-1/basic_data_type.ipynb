{
 "cells": [
  {
   "cell_type": "markdown",
   "id": "0761762c-bc48-42bc-a5a7-e213d55e9167",
   "metadata": {},
   "source": [
    "# Numeric"
   ]
  },
  {
   "cell_type": "markdown",
   "id": "218bb3c5-4a25-4d20-88ff-ea2583a473b8",
   "metadata": {
    "jp-MarkdownHeadingCollapsed": true
   },
   "source": [
    "#### int"
   ]
  },
  {
   "cell_type": "code",
   "execution_count": 3,
   "id": "72b53729-bb4d-4997-ab68-e80931391ffa",
   "metadata": {},
   "outputs": [],
   "source": [
    "score = -12\n",
    "age = 32\n",
    "height = 170\n",
    "salary = 80_000_000_000_000_000_000"
   ]
  },
  {
   "cell_type": "code",
   "execution_count": 4,
   "id": "65aa6da2-4be7-4774-9a1a-35e069eb7347",
   "metadata": {},
   "outputs": [
    {
     "data": {
      "text/plain": [
       "(-12, 32, 170, 80000000000000000000)"
      ]
     },
     "execution_count": 4,
     "metadata": {},
     "output_type": "execute_result"
    }
   ],
   "source": [
    "score, age, height, salary"
   ]
  },
  {
   "cell_type": "code",
   "execution_count": 1,
   "id": "7f77eeae-4907-46e6-ad44-64134c61635d",
   "metadata": {},
   "outputs": [],
   "source": [
    "zero = int()\n",
    "int_num = int(29)\n",
    "convert_to_int = int(50.223)"
   ]
  },
  {
   "cell_type": "code",
   "execution_count": 2,
   "id": "93f533cf-7b1d-4ef7-a405-4965bd4e07dc",
   "metadata": {},
   "outputs": [
    {
     "data": {
      "text/plain": [
       "(0, 29, 50)"
      ]
     },
     "execution_count": 2,
     "metadata": {},
     "output_type": "execute_result"
    }
   ],
   "source": [
    "zero, int_num, convert_to_int"
   ]
  },
  {
   "cell_type": "markdown",
   "id": "2eb89f4a-ee5b-4f80-8440-de59543a3e15",
   "metadata": {
    "jp-MarkdownHeadingCollapsed": true
   },
   "source": [
    "#### float"
   ]
  },
  {
   "cell_type": "code",
   "execution_count": 11,
   "id": "53bd2c74-d839-4894-a056-5bde0bbaa135",
   "metadata": {},
   "outputs": [],
   "source": [
    "pi = 3.14\n",
    "sqrt2 = 1.414\n",
    "depth = -0.0001\n",
    "division = 10 / 2"
   ]
  },
  {
   "cell_type": "code",
   "execution_count": 12,
   "id": "fb99d552-990e-4797-a420-869e33be919d",
   "metadata": {},
   "outputs": [
    {
     "data": {
      "text/plain": [
       "(3.14, 1.414, -0.0001, 5.0)"
      ]
     },
     "execution_count": 12,
     "metadata": {},
     "output_type": "execute_result"
    }
   ],
   "source": [
    "pi, sqrt2, depth, division"
   ]
  },
  {
   "cell_type": "code",
   "execution_count": 13,
   "id": "a6643177-101f-440b-82f6-609d66a64117",
   "metadata": {},
   "outputs": [],
   "source": [
    "f0 = float()\n",
    "convert_to_float = float(11)"
   ]
  },
  {
   "cell_type": "code",
   "execution_count": 8,
   "id": "6a75aa89-ad2d-49a5-ad6b-6d336db1aab1",
   "metadata": {},
   "outputs": [
    {
     "data": {
      "text/plain": [
       "(0.0, 11.0)"
      ]
     },
     "execution_count": 8,
     "metadata": {},
     "output_type": "execute_result"
    }
   ],
   "source": [
    "f0, convert_to_float"
   ]
  },
  {
   "cell_type": "code",
   "execution_count": 10,
   "id": "f4c5e65d-6918-41eb-8683-ab08d0e0fd1e",
   "metadata": {},
   "outputs": [],
   "source": [
    "complex_number = 12_32323_32322 + 4j"
   ]
  },
  {
   "cell_type": "code",
   "execution_count": 11,
   "id": "f5a5413e-08a2-4d3d-8385-69d96fc3d72e",
   "metadata": {},
   "outputs": [
    {
     "data": {
      "text/plain": [
       "(123232332322+4j)"
      ]
     },
     "execution_count": 11,
     "metadata": {},
     "output_type": "execute_result"
    }
   ],
   "source": [
    "complex_number"
   ]
  },
  {
   "cell_type": "code",
   "execution_count": 12,
   "id": "9e7ed096-8d3a-41cb-b027-de6e23028201",
   "metadata": {},
   "outputs": [],
   "source": [
    "complex_0j = complex()"
   ]
  },
  {
   "cell_type": "code",
   "execution_count": 13,
   "id": "79d0aafa-c54a-4655-8214-ed833367c662",
   "metadata": {},
   "outputs": [
    {
     "data": {
      "text/plain": [
       "0j"
      ]
     },
     "execution_count": 13,
     "metadata": {},
     "output_type": "execute_result"
    }
   ],
   "source": [
    "complex_0j"
   ]
  },
  {
   "cell_type": "markdown",
   "id": "5f09e6c2-f5fb-4eb6-9bf7-3f17342f0979",
   "metadata": {
    "jp-MarkdownHeadingCollapsed": true
   },
   "source": [
    "# Boolean"
   ]
  },
  {
   "cell_type": "code",
   "execution_count": 15,
   "id": "112719ee-2686-4fbb-9bb0-e9b6ce3d6222",
   "metadata": {},
   "outputs": [],
   "source": [
    "t = True\n",
    "f = False"
   ]
  },
  {
   "cell_type": "code",
   "execution_count": 16,
   "id": "833a9bf5-aea1-480c-89ad-31c38b7ca854",
   "metadata": {},
   "outputs": [
    {
     "data": {
      "text/plain": [
       "(True, False)"
      ]
     },
     "execution_count": 16,
     "metadata": {},
     "output_type": "execute_result"
    }
   ],
   "source": [
    "t, f"
   ]
  },
  {
   "cell_type": "code",
   "execution_count": 17,
   "id": "aebc3caa-1472-405c-ae82-cc6d2d475048",
   "metadata": {},
   "outputs": [
    {
     "data": {
      "text/plain": [
       "3"
      ]
     },
     "execution_count": 17,
     "metadata": {},
     "output_type": "execute_result"
    }
   ],
   "source": [
    "True + True + True"
   ]
  },
  {
   "cell_type": "code",
   "execution_count": 19,
   "id": "6fb81322-7f9f-416a-94ba-cc9869484bbd",
   "metadata": {},
   "outputs": [
    {
     "data": {
      "text/plain": [
       "(True, False, True, False)"
      ]
     },
     "execution_count": 19,
     "metadata": {},
     "output_type": "execute_result"
    }
   ],
   "source": [
    "bool(1), bool(None), bool([1, 2, 3]), bool([])"
   ]
  },
  {
   "cell_type": "markdown",
   "id": "789d1b13-3a60-451a-b38d-4af3ed54b5d4",
   "metadata": {
    "jp-MarkdownHeadingCollapsed": true
   },
   "source": [
    "# String"
   ]
  },
  {
   "cell_type": "code",
   "execution_count": 32,
   "id": "cf507268-9808-404a-9235-0a687d16bdf9",
   "metadata": {},
   "outputs": [],
   "source": [
    "name = 'Sorena'\n",
    "city = \"Kerman\"\n",
    "story_part_one = \"\"\"\n",
    "Lorem ipsum dolor sit amet, consectetur adipiscing elit,\n",
    "sed do eiusmod tempor incididunt ut labore et dolore magna aliqua.\n",
    "Ut enim ad minim veniam, quis nostrud exercitation ullamco laboris\n",
    "nisi ut aliquip ex ea commodo consequat.\n",
    "\"\"\""
   ]
  },
  {
   "cell_type": "code",
   "execution_count": 33,
   "id": "2f3e5c66-1e38-458f-88dc-8ca2f60ae3a9",
   "metadata": {},
   "outputs": [
    {
     "data": {
      "text/plain": [
       "('Sorena', 'Kerman')"
      ]
     },
     "execution_count": 33,
     "metadata": {},
     "output_type": "execute_result"
    }
   ],
   "source": [
    "name, city"
   ]
  },
  {
   "cell_type": "code",
   "execution_count": 34,
   "id": "c8028386-c1c2-4fe8-9983-1ea7648eaf20",
   "metadata": {},
   "outputs": [
    {
     "name": "stdout",
     "output_type": "stream",
     "text": [
      "\n",
      "Lorem ipsum dolor sit amet, consectetur adipiscing elit,\n",
      "sed do eiusmod tempor incididunt ut labore et dolore magna aliqua.\n",
      "Ut enim ad minim veniam, quis nostrud exercitation ullamco laboris\n",
      "nisi ut aliquip ex ea commodo consequat.\n",
      "\n"
     ]
    }
   ],
   "source": [
    "print(story_part_one)"
   ]
  },
  {
   "cell_type": "markdown",
   "id": "a57a76db-de9b-40e4-afb4-252f645bd4d8",
   "metadata": {
    "jp-MarkdownHeadingCollapsed": true
   },
   "source": [
    "#### len"
   ]
  },
  {
   "cell_type": "code",
   "execution_count": 35,
   "id": "f403c217-cd4d-4386-8435-967adda68d9c",
   "metadata": {},
   "outputs": [
    {
     "data": {
      "text/plain": [
       "(6, 233)"
      ]
     },
     "execution_count": 35,
     "metadata": {},
     "output_type": "execute_result"
    }
   ],
   "source": [
    "len(name), len(story_part_one)"
   ]
  },
  {
   "cell_type": "code",
   "execution_count": 36,
   "id": "598a768f-90ed-43c8-8d91-3ee0ed29b04e",
   "metadata": {},
   "outputs": [
    {
     "data": {
      "text/plain": [
       "0"
      ]
     },
     "execution_count": 36,
     "metadata": {},
     "output_type": "execute_result"
    }
   ],
   "source": [
    "empty_string = ''\n",
    "len(empty_string)"
   ]
  },
  {
   "cell_type": "code",
   "execution_count": 42,
   "id": "0b336ab0-e0b1-4e6a-9f63-20201ce90272",
   "metadata": {},
   "outputs": [
    {
     "ename": "TypeError",
     "evalue": "object of type 'float' has no len()",
     "output_type": "error",
     "traceback": [
      "\u001b[1;31m---------------------------------------------------------------------------\u001b[0m",
      "\u001b[1;31mTypeError\u001b[0m                                 Traceback (most recent call last)",
      "Cell \u001b[1;32mIn[42], line 1\u001b[0m\n\u001b[1;32m----> 1\u001b[0m \u001b[38;5;28mlen\u001b[39m(\u001b[38;5;241m225.22\u001b[39m)\n",
      "\u001b[1;31mTypeError\u001b[0m: object of type 'float' has no len()"
     ]
    }
   ],
   "source": [
    "len(225.22)"
   ]
  },
  {
   "cell_type": "markdown",
   "id": "c7b71d09-f7d5-49a9-88b9-5894af4c7eb7",
   "metadata": {
    "jp-MarkdownHeadingCollapsed": true
   },
   "source": [
    "#### Escape Sequences in Strings"
   ]
  },
  {
   "cell_type": "code",
   "execution_count": 30,
   "id": "2074c918-18e6-483a-ae07-4c3316923f0d",
   "metadata": {},
   "outputs": [
    {
     "data": {
      "text/plain": [
       "\"Ali's car\""
      ]
     },
     "execution_count": 30,
     "metadata": {},
     "output_type": "execute_result"
    }
   ],
   "source": [
    "property = \"Ali's car\"\n",
    "property"
   ]
  },
  {
   "cell_type": "code",
   "execution_count": 44,
   "id": "1e77b09c-c9d7-4eab-bb2a-eed0672f72a1",
   "metadata": {},
   "outputs": [
    {
     "data": {
      "text/plain": [
       "\"Ali's car\""
      ]
     },
     "execution_count": 44,
     "metadata": {},
     "output_type": "execute_result"
    }
   ],
   "source": [
    "property = 'Ali\\'s car'\n",
    "property"
   ]
  },
  {
   "cell_type": "code",
   "execution_count": 47,
   "id": "b01658ca-31b1-4994-8236-721bbfcc2e70",
   "metadata": {},
   "outputs": [
    {
     "data": {
      "text/plain": [
       "'\\\\'"
      ]
     },
     "execution_count": 47,
     "metadata": {},
     "output_type": "execute_result"
    }
   ],
   "source": [
    "backslash = '\\\\'\n",
    "backslash"
   ]
  },
  {
   "cell_type": "markdown",
   "id": "a136a58b-e2b2-4ed4-be86-21cc2fb4635e",
   "metadata": {
    "jp-MarkdownHeadingCollapsed": true
   },
   "source": [
    "#### Apply special meaning to characters"
   ]
  },
  {
   "cell_type": "code",
   "execution_count": 51,
   "id": "683b4f02-0d34-424b-b016-1f7bfd695d6b",
   "metadata": {},
   "outputs": [],
   "source": [
    "tab = 'start:\\ttab!'\n",
    "new_line = 'line1: \\nline2: new line!'"
   ]
  },
  {
   "cell_type": "code",
   "execution_count": 52,
   "id": "313f175f-123c-4d50-ab5f-b1fee369a4f6",
   "metadata": {},
   "outputs": [
    {
     "name": "stdout",
     "output_type": "stream",
     "text": [
      "start:\ttab!\n"
     ]
    }
   ],
   "source": [
    "print(tab)"
   ]
  },
  {
   "cell_type": "code",
   "execution_count": 50,
   "id": "b7a3dfcf-bf6f-4a2a-b518-e0fa952d7218",
   "metadata": {},
   "outputs": [
    {
     "name": "stdout",
     "output_type": "stream",
     "text": [
      "line1: \n",
      "line2: new line!\n"
     ]
    }
   ],
   "source": [
    "print(new_line)"
   ]
  },
  {
   "cell_type": "markdown",
   "id": "81f75045-8cc7-4b2d-b7e6-f22a4cb0db8b",
   "metadata": {},
   "source": [
    "# Literals and identifiers"
   ]
  },
  {
   "cell_type": "markdown",
   "id": "addce38f-cee8-4cdc-bb93-132a42acca34",
   "metadata": {
    "jp-MarkdownHeadingCollapsed": true
   },
   "source": [
    "#### Literal"
   ]
  },
  {
   "cell_type": "code",
   "execution_count": 40,
   "id": "e28e89ae-f542-4344-b5a1-fa77eb4ded06",
   "metadata": {},
   "outputs": [],
   "source": [
    "1 # int literal\n",
    "2.5 # float literal\n",
    "5j # complex literal\n",
    "'hello world' # str literal\n",
    "list_literal = [] # list literal"
   ]
  },
  {
   "cell_type": "markdown",
   "id": "303ff066-adff-4c8b-bfdd-e3fb6c0459ec",
   "metadata": {
    "jp-MarkdownHeadingCollapsed": true
   },
   "source": [
    "#### identifier"
   ]
  },
  {
   "cell_type": "code",
   "execution_count": 53,
   "id": "5b59f3fb-1d4a-4f41-869a-deb8dec5b26e",
   "metadata": {},
   "outputs": [],
   "source": [
    "x = 25"
   ]
  }
 ],
 "metadata": {
  "kernelspec": {
   "display_name": "Python 3 (ipykernel)",
   "language": "python",
   "name": "python3"
  },
  "language_info": {
   "codemirror_mode": {
    "name": "ipython",
    "version": 3
   },
   "file_extension": ".py",
   "mimetype": "text/x-python",
   "name": "python",
   "nbconvert_exporter": "python",
   "pygments_lexer": "ipython3",
   "version": "3.12.4"
  }
 },
 "nbformat": 4,
 "nbformat_minor": 5
}
