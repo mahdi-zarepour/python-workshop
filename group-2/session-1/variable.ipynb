{
 "cells": [
  {
   "cell_type": "markdown",
   "id": "d7b0cea3-bc70-459a-b022-11725c498ac2",
   "metadata": {},
   "source": [
    "# assign variable"
   ]
  },
  {
   "cell_type": "code",
   "execution_count": 47,
   "id": "4ec105a1-7b20-4cb8-aa35-9284b7511266",
   "metadata": {},
   "outputs": [],
   "source": [
    "id_cart = 40436001\n",
    "name = 'Ava'\n",
    "age = 18"
   ]
  },
  {
   "cell_type": "code",
   "execution_count": 48,
   "id": "dbc3a2c0-5bc9-46ce-9760-889829dcaa07",
   "metadata": {},
   "outputs": [
    {
     "name": "stdout",
     "output_type": "stream",
     "text": [
      "40436001 Ava 18\n"
     ]
    }
   ],
   "source": [
    "print(id_cart, name, age)"
   ]
  },
  {
   "cell_type": "code",
   "execution_count": 49,
   "id": "7b1cd765-7ee2-41e5-92b0-385f729a1ffe",
   "metadata": {},
   "outputs": [
    {
     "data": {
      "text/plain": [
       "'Ava'"
      ]
     },
     "execution_count": 49,
     "metadata": {},
     "output_type": "execute_result"
    }
   ],
   "source": [
    "name"
   ]
  },
  {
   "cell_type": "markdown",
   "id": "30a41687-50a2-483b-ab97-3ab7d4ecec93",
   "metadata": {},
   "source": [
    "#### Many Values to Multiple Variables"
   ]
  },
  {
   "cell_type": "code",
   "execution_count": 3,
   "id": "8fed31d6-02d0-46ee-8047-c31a2a5e4904",
   "metadata": {},
   "outputs": [],
   "source": [
    "car, motor, truck = 'BMW', 'Kawasaki', 'Volvo'"
   ]
  },
  {
   "cell_type": "code",
   "execution_count": 4,
   "id": "4288e7d3-6e0f-42ce-80f8-d9e078056ee5",
   "metadata": {},
   "outputs": [
    {
     "data": {
      "text/plain": [
       "('BMW', 'Kawasaki', 'Volvo')"
      ]
     },
     "execution_count": 4,
     "metadata": {},
     "output_type": "execute_result"
    }
   ],
   "source": [
    "car, motor, truck"
   ]
  },
  {
   "cell_type": "markdown",
   "id": "5096659f-507c-465b-805a-bbb9d1381fc2",
   "metadata": {},
   "source": [
    "#### One Value to Multiple Variables"
   ]
  },
  {
   "cell_type": "code",
   "execution_count": 10,
   "id": "61a29b2c-cd9e-4a34-9c9c-2a993dfcb2d9",
   "metadata": {},
   "outputs": [],
   "source": [
    "x = y = z = 'math variables!!!'"
   ]
  },
  {
   "cell_type": "code",
   "execution_count": 11,
   "id": "4642437c-27b6-41ca-b1d2-42472f32ec0e",
   "metadata": {
    "scrolled": true
   },
   "outputs": [
    {
     "data": {
      "text/plain": [
       "('math variables!!!', 'math variables!!!', 'math variables!!!')"
      ]
     },
     "execution_count": 11,
     "metadata": {},
     "output_type": "execute_result"
    }
   ],
   "source": [
    "x, y, z"
   ]
  },
  {
   "cell_type": "code",
   "execution_count": 12,
   "id": "c3eff5e1-758a-4505-8497-ab9d28589c22",
   "metadata": {},
   "outputs": [
    {
     "data": {
      "text/plain": [
       "1234"
      ]
     },
     "execution_count": 12,
     "metadata": {},
     "output_type": "execute_result"
    }
   ],
   "source": [
    "id_cart = 1234\n",
    "id_cart"
   ]
  },
  {
   "cell_type": "code",
   "execution_count": 13,
   "id": "61877d7f-71a9-4b25-a1f1-85a4cc931ec3",
   "metadata": {},
   "outputs": [
    {
     "data": {
      "text/plain": [
       "1236"
      ]
     },
     "execution_count": 13,
     "metadata": {},
     "output_type": "execute_result"
    }
   ],
   "source": [
    "id_cart + 2"
   ]
  },
  {
   "cell_type": "markdown",
   "id": "b65e2241-f5fa-4dbd-80f4-c9171b9d6892",
   "metadata": {
    "jp-MarkdownHeadingCollapsed": true
   },
   "source": [
    "## Case Sensetive"
   ]
  },
  {
   "cell_type": "code",
   "execution_count": 15,
   "id": "93f56445-3727-458f-8dd3-796ba2bf0851",
   "metadata": {},
   "outputs": [
    {
     "data": {
      "text/plain": [
       "'Fatemeh'"
      ]
     },
     "execution_count": 15,
     "metadata": {},
     "output_type": "execute_result"
    }
   ],
   "source": [
    "name = 'Fatemeh'\n",
    "name"
   ]
  },
  {
   "cell_type": "code",
   "execution_count": 17,
   "id": "7ae4d0ca-0d74-4b7b-b89b-5ccb09bef163",
   "metadata": {},
   "outputs": [
    {
     "data": {
      "text/plain": [
       "'Ali'"
      ]
     },
     "execution_count": 17,
     "metadata": {},
     "output_type": "execute_result"
    }
   ],
   "source": [
    "Name = 'Ali'\n",
    "Name"
   ]
  },
  {
   "cell_type": "code",
   "execution_count": 20,
   "id": "632708c8-da5d-4757-b1c3-8aff166c5326",
   "metadata": {},
   "outputs": [
    {
     "data": {
      "text/plain": [
       "('Fatemeh', 'Ali')"
      ]
     },
     "execution_count": 20,
     "metadata": {},
     "output_type": "execute_result"
    }
   ],
   "source": [
    "name, Name"
   ]
  },
  {
   "cell_type": "markdown",
   "id": "0bf199a2-bd66-4ada-9c11-1faa8db758d2",
   "metadata": {
    "jp-MarkdownHeadingCollapsed": true
   },
   "source": [
    "## Identifier name ru"
   ]
  },
  {
   "cell_type": "code",
   "execution_count": 30,
   "id": "acb4c7df-0d2d-4d11-ae1f-03e4c94e7cf1",
   "metadata": {},
   "outputs": [
    {
     "ename": "SyntaxError",
     "evalue": "invalid syntax (3006488233.py, line 1)",
     "output_type": "error",
     "traceback": [
      "\u001b[1;36m  Cell \u001b[1;32mIn[30], line 1\u001b[1;36m\u001b[0m\n\u001b[1;33m    full Name = 'Hamid Babaie'\u001b[0m\n\u001b[1;37m         ^\u001b[0m\n\u001b[1;31mSyntaxError\u001b[0m\u001b[1;31m:\u001b[0m invalid syntax\n"
     ]
    }
   ],
   "source": [
    "full Name = 'Hamid Babaie'\n",
    "taxRate"
   ]
  },
  {
   "cell_type": "markdown",
   "id": "8ff773da-8dc0-451c-bcd6-d46ccd108aaf",
   "metadata": {
    "jp-MarkdownHeadingCollapsed": true
   },
   "source": [
    "## Keyword"
   ]
  },
  {
   "cell_type": "code",
   "execution_count": 33,
   "id": "6e81a27d-e147-4f8a-b61c-85115f5c0070",
   "metadata": {},
   "outputs": [],
   "source": [
    "import keyword"
   ]
  },
  {
   "cell_type": "code",
   "execution_count": 34,
   "id": "0ea23bf0-5057-4c76-a410-d286ee07ca65",
   "metadata": {},
   "outputs": [
    {
     "data": {
      "text/plain": [
       "True"
      ]
     },
     "execution_count": 34,
     "metadata": {},
     "output_type": "execute_result"
    }
   ],
   "source": [
    "keyword.iskeyword('class')"
   ]
  },
  {
   "cell_type": "code",
   "execution_count": 36,
   "id": "b2c5f905-4aa9-4d60-aa3a-83878ff9cabf",
   "metadata": {},
   "outputs": [
    {
     "data": {
      "text/plain": [
       "False"
      ]
     },
     "execution_count": 36,
     "metadata": {},
     "output_type": "execute_result"
    }
   ],
   "source": [
    "keyword.iskeyword('name')"
   ]
  },
  {
   "cell_type": "markdown",
   "id": "c9edfb24-5b09-47d1-8591-7eb4f0142ffc",
   "metadata": {},
   "source": [
    "# input"
   ]
  },
  {
   "cell_type": "code",
   "execution_count": 47,
   "id": "6cc0e0fe-678a-4c95-84aa-df8c420f4cbc",
   "metadata": {},
   "outputs": [
    {
     "name": "stdin",
     "output_type": "stream",
     "text": [
      "Enter your job:  developer\n"
     ]
    }
   ],
   "source": [
    "job = input('Enter your job: ')"
   ]
  },
  {
   "cell_type": "code",
   "execution_count": 48,
   "id": "60969531-92c6-44ee-aba3-967c03c82063",
   "metadata": {},
   "outputs": [
    {
     "data": {
      "text/plain": [
       "'developer'"
      ]
     },
     "execution_count": 48,
     "metadata": {},
     "output_type": "execute_result"
    }
   ],
   "source": [
    "job"
   ]
  },
  {
   "cell_type": "markdown",
   "id": "25713e49-0423-4e6d-9f56-fd3c13f8ec1e",
   "metadata": {},
   "source": [
    "# print"
   ]
  },
  {
   "cell_type": "code",
   "execution_count": 66,
   "id": "e2861e74-a444-4104-ac35-5ef1b4481c20",
   "metadata": {},
   "outputs": [
    {
     "name": "stdout",
     "output_type": "stream",
     "text": [
      "Ava\n"
     ]
    }
   ],
   "source": [
    "print(name)"
   ]
  }
 ],
 "metadata": {
  "kernelspec": {
   "display_name": "Python 3 (ipykernel)",
   "language": "python",
   "name": "python3"
  },
  "language_info": {
   "codemirror_mode": {
    "name": "ipython",
    "version": 3
   },
   "file_extension": ".py",
   "mimetype": "text/x-python",
   "name": "python",
   "nbconvert_exporter": "python",
   "pygments_lexer": "ipython3",
   "version": "3.12.4"
  }
 },
 "nbformat": 4,
 "nbformat_minor": 5
}
