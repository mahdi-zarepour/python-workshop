{
 "cells": [
  {
   "cell_type": "code",
   "execution_count": 1,
   "id": "fb9e3cfd-0e95-49aa-a663-a2dba3275d7a",
   "metadata": {},
   "outputs": [],
   "source": [
    "incomes = list()"
   ]
  },
  {
   "cell_type": "code",
   "execution_count": 3,
   "id": "12b76e17-cd44-4252-9e0a-b811aee80136",
   "metadata": {},
   "outputs": [
    {
     "name": "stdin",
     "output_type": "stream",
     "text": [
      "Enter your income:  10\n",
      "Enter your income:  120\n",
      "Enter your income:  130\n",
      "Enter your income:  140\n",
      "Enter your income:  150\n"
     ]
    }
   ],
   "source": [
    "i = 0\n",
    "while i < 5:\n",
    "    incomes.append(\n",
    "        float(\n",
    "            input('Enter your income: ')\n",
    "        )\n",
    "    )\n",
    "    i += 1"
   ]
  },
  {
   "cell_type": "code",
   "execution_count": 4,
   "id": "a5a206ae-91d7-4be2-897b-f0377283046b",
   "metadata": {},
   "outputs": [],
   "source": [
    "i = 0\n",
    "while i < len(incomes):\n",
    "    incomes[i] /= 10\n",
    "    i += 1"
   ]
  },
  {
   "cell_type": "code",
   "execution_count": 5,
   "id": "b892a74e-b235-49fc-9390-bfbe7faf3df0",
   "metadata": {},
   "outputs": [
    {
     "data": {
      "text/plain": [
       "[1.0, 12.0, 13.0, 14.0, 15.0]"
      ]
     },
     "execution_count": 5,
     "metadata": {},
     "output_type": "execute_result"
    }
   ],
   "source": [
    "incomes"
   ]
  },
  {
   "cell_type": "code",
   "execution_count": 6,
   "id": "2ee804b6-94b5-449d-8cde-b6e790dc6448",
   "metadata": {},
   "outputs": [],
   "source": [
    "ids = list()"
   ]
  },
  {
   "cell_type": "code",
   "execution_count": 7,
   "id": "7674cb3f-30b4-4743-a3f3-ecfa67e2487d",
   "metadata": {},
   "outputs": [],
   "source": [
    "i = 0\n",
    "while i < 5:\n",
    "    ids.append(i)\n",
    "    i += 1"
   ]
  },
  {
   "cell_type": "code",
   "execution_count": 8,
   "id": "dc4749ad-2694-4c00-80aa-3e1ad0a51a96",
   "metadata": {},
   "outputs": [
    {
     "data": {
      "text/plain": [
       "[0, 1, 2, 3, 4]"
      ]
     },
     "execution_count": 8,
     "metadata": {},
     "output_type": "execute_result"
    }
   ],
   "source": [
    "ids"
   ]
  },
  {
   "cell_type": "code",
   "execution_count": 10,
   "id": "1abcacda-7ecd-47e1-9875-d436cdb361df",
   "metadata": {},
   "outputs": [],
   "source": [
    "income_dict = {}"
   ]
  },
  {
   "cell_type": "code",
   "execution_count": 11,
   "id": "c6e74a5f-62ec-4b72-b7ec-198c0356c412",
   "metadata": {},
   "outputs": [],
   "source": [
    "i = 0\n",
    "while i < 5:\n",
    "    income_dict[i] = incomes[i]\n",
    "    i += 1"
   ]
  },
  {
   "cell_type": "code",
   "execution_count": 12,
   "id": "282e33ba-2206-45bb-811f-9a4c0e2195ed",
   "metadata": {},
   "outputs": [
    {
     "data": {
      "text/plain": [
       "{0: 1.0, 1: 12.0, 2: 13.0, 3: 14.0, 4: 15.0}"
      ]
     },
     "execution_count": 12,
     "metadata": {},
     "output_type": "execute_result"
    }
   ],
   "source": [
    "income_dict"
   ]
  },
  {
   "cell_type": "code",
   "execution_count": null,
   "id": "057aa62f-0314-49be-8973-1d63f48e4a47",
   "metadata": {},
   "outputs": [],
   "source": []
  }
 ],
 "metadata": {
  "kernelspec": {
   "display_name": "Python 3 (ipykernel)",
   "language": "python",
   "name": "python3"
  },
  "language_info": {
   "codemirror_mode": {
    "name": "ipython",
    "version": 3
   },
   "file_extension": ".py",
   "mimetype": "text/x-python",
   "name": "python",
   "nbconvert_exporter": "python",
   "pygments_lexer": "ipython3",
   "version": "3.12.4"
  }
 },
 "nbformat": 4,
 "nbformat_minor": 5
}
