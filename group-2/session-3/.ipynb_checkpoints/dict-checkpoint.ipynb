{
 "cells": [
  {
   "cell_type": "markdown",
   "id": "5502ad72-d440-4736-a34a-e89659de4268",
   "metadata": {},
   "source": [
    "# Dictionary"
   ]
  },
  {
   "cell_type": "markdown",
   "id": "0bb80f27-9a94-4d0e-95a5-26ac5f1ae947",
   "metadata": {
    "jp-MarkdownHeadingCollapsed": true
   },
   "source": [
    "## create:\n",
    "    - Dictionary literals:\n",
    "        They consist of a pair of brackets enclosing a\n",
    "        comma-separated series of objects. Note that you don't\n",
    "        have to declare the items' type or the list's size beforehand."
   ]
  },
  {
   "cell_type": "code",
   "execution_count": 12,
   "id": "9d7c0bb8-a0fb-4f8c-a0b7-ec6391c56576",
   "metadata": {},
   "outputs": [],
   "source": [
    "data = {\n",
    "    'id': 0,\n",
    "    'name':'Ali',\n",
    "    'age':21\n",
    "}"
   ]
  },
  {
   "cell_type": "code",
   "execution_count": 15,
   "id": "1c345e6c-d562-41a5-9950-23fac21250c0",
   "metadata": {
    "scrolled": true
   },
   "outputs": [
    {
     "data": {
      "text/plain": [
       "{'id': 0, 'name': 'Ali', 'age': 21}"
      ]
     },
     "execution_count": 15,
     "metadata": {},
     "output_type": "execute_result"
    }
   ],
   "source": [
    "data"
   ]
  },
  {
   "cell_type": "markdown",
   "id": "1b472d1c-a0f1-4f52-80d3-79163e80eeef",
   "metadata": {
    "jp-MarkdownHeadingCollapsed": true
   },
   "source": [
    "## read:\n",
    "    - key:\n",
    "        Once you’ve created a dictionary, you can access its content by keys.\n",
    "        To retrieve a value from a dictionary, you can specify its corresponding key in square brackets ([])\n",
    "        after the dictionary name"
   ]
  },
  {
   "cell_type": "code",
   "execution_count": 16,
   "id": "d519135f-0979-4e79-a4ef-9be04f77f0a6",
   "metadata": {},
   "outputs": [
    {
     "data": {
      "text/plain": [
       "'Ali'"
      ]
     },
     "execution_count": 16,
     "metadata": {},
     "output_type": "execute_result"
    }
   ],
   "source": [
    "data['name']"
   ]
  },
  {
   "cell_type": "code",
   "execution_count": 30,
   "id": "71cb90c7-8e35-46d2-97e2-2b9fe27a0d1a",
   "metadata": {},
   "outputs": [
    {
     "data": {
      "text/plain": [
       "21"
      ]
     },
     "execution_count": 30,
     "metadata": {},
     "output_type": "execute_result"
    }
   ],
   "source": [
    "data['age']"
   ]
  },
  {
   "cell_type": "markdown",
   "id": "675e4e2a-e88a-4ee5-aa81-c1090e3eff68",
   "metadata": {
    "jp-MarkdownHeadingCollapsed": true
   },
   "source": [
    "## update:\n",
    "    Python dictionaries are dynamically sized data structures\n",
    "    - Assign keys manually"
   ]
  },
  {
   "cell_type": "code",
   "execution_count": 32,
   "id": "e405b4e5-a515-4483-8c31-82dea552a4a5",
   "metadata": {},
   "outputs": [],
   "source": [
    "data['phone'] = 00000000"
   ]
  },
  {
   "cell_type": "code",
   "execution_count": 33,
   "id": "287cf99f-4349-4e3f-b24b-b7fe356e34c5",
   "metadata": {},
   "outputs": [
    {
     "data": {
      "text/plain": [
       "{'name': 'Ali', 'age': 21, 'phone': 0}"
      ]
     },
     "execution_count": 33,
     "metadata": {},
     "output_type": "execute_result"
    }
   ],
   "source": [
    "data"
   ]
  },
  {
   "cell_type": "markdown",
   "id": "190cea51-e858-41ad-b49e-be1795b19afe",
   "metadata": {
    "jp-MarkdownHeadingCollapsed": true
   },
   "source": [
    "## Methods\n",
    "Python provides various built-in functions to deal with dictionaries."
   ]
  },
  {
   "cell_type": "markdown",
   "id": "19d377f1-50ab-4076-b300-0a5e5731a511",
   "metadata": {
    "jp-MarkdownHeadingCollapsed": true
   },
   "source": [
    "### keys\n",
    "Returns a view object that displays a list of all the keys in the dictionary in order of insertion"
   ]
  },
  {
   "cell_type": "code",
   "execution_count": 20,
   "id": "fc6118d3-dc0f-499d-8869-552ba6b327df",
   "metadata": {
    "scrolled": true
   },
   "outputs": [
    {
     "data": {
      "text/plain": [
       "dict_keys(['id', 'name', 'age'])"
      ]
     },
     "execution_count": 20,
     "metadata": {},
     "output_type": "execute_result"
    }
   ],
   "source": [
    "data.keys()"
   ]
  },
  {
   "cell_type": "markdown",
   "id": "10ed44b9-2b68-4d69-a009-9e87c37fed0d",
   "metadata": {
    "jp-MarkdownHeadingCollapsed": true
   },
   "source": [
    "### values\n",
    "Returns a view object containing all dictionary values, which can be accessed and iterated through efficiently"
   ]
  },
  {
   "cell_type": "code",
   "execution_count": 19,
   "id": "935022ee-d92c-4670-acc3-bc75e5beeb3f",
   "metadata": {},
   "outputs": [
    {
     "data": {
      "text/plain": [
       "dict_values([0, 'Ali', 21])"
      ]
     },
     "execution_count": 19,
     "metadata": {},
     "output_type": "execute_result"
    }
   ],
   "source": [
    "data.values()"
   ]
  },
  {
   "cell_type": "markdown",
   "id": "938b240c-b895-4bd0-91e2-520cdf06be74",
   "metadata": {
    "jp-MarkdownHeadingCollapsed": true
   },
   "source": [
    "### get\n",
    "Returns the value for the given key"
   ]
  },
  {
   "cell_type": "code",
   "execution_count": 23,
   "id": "fb041fe1-bcd1-4673-bc54-eb53ca981b10",
   "metadata": {},
   "outputs": [
    {
     "data": {
      "text/plain": [
       "'Ali'"
      ]
     },
     "execution_count": 23,
     "metadata": {},
     "output_type": "execute_result"
    }
   ],
   "source": [
    "data.get('name')"
   ]
  },
  {
   "cell_type": "markdown",
   "id": "30644451-0e8d-4227-b876-2a75ebcff849",
   "metadata": {
    "jp-MarkdownHeadingCollapsed": true
   },
   "source": [
    "### pop\n",
    "Returns and removes the element with the given key"
   ]
  },
  {
   "cell_type": "code",
   "execution_count": 25,
   "id": "06938ce7-f335-4f99-9a8b-9092d2ffa639",
   "metadata": {},
   "outputs": [
    {
     "data": {
      "text/plain": [
       "0"
      ]
     },
     "execution_count": 25,
     "metadata": {},
     "output_type": "execute_result"
    }
   ],
   "source": [
    "data.pop('id')"
   ]
  },
  {
   "cell_type": "code",
   "execution_count": 26,
   "id": "61754e60-0fc0-43c1-85c3-f7ab6ff6014d",
   "metadata": {},
   "outputs": [
    {
     "data": {
      "text/plain": [
       "{'name': 'Ali', 'age': 21}"
      ]
     },
     "execution_count": 26,
     "metadata": {},
     "output_type": "execute_result"
    }
   ],
   "source": [
    "data"
   ]
  }
 ],
 "metadata": {
  "kernelspec": {
   "display_name": "Python 3 (ipykernel)",
   "language": "python",
   "name": "python3"
  },
  "language_info": {
   "codemirror_mode": {
    "name": "ipython",
    "version": 3
   },
   "file_extension": ".py",
   "mimetype": "text/x-python",
   "name": "python",
   "nbconvert_exporter": "python",
   "pygments_lexer": "ipython3",
   "version": "3.12.4"
  }
 },
 "nbformat": 4,
 "nbformat_minor": 5
}
