{
 "cells": [
  {
   "cell_type": "markdown",
   "id": "f392be59-5fd8-4ee9-bc74-8f0cffc690be",
   "metadata": {},
   "source": [
    "# Tuple"
   ]
  },
  {
   "cell_type": "markdown",
   "id": "28a4ce7c-cdef-402e-a178-c95c7f97ce90",
   "metadata": {
    "jp-MarkdownHeadingCollapsed": true
   },
   "source": [
    "## create:\n",
    "    - Tuple literals:\n",
    "        They consist of a pair of parentheses enclosing a\n",
    "        comma-separated series of objects. Note that you don't\n",
    "        have to declare the items' type or the list's size beforehand.\n",
    "    - tuple() constructor:\n",
    "        You can call this constructor with any iterable object,\n",
    "        including other lists, tuples, sets, dictionaries and\n",
    "        their components, strings, and many others.\n",
    "        You can also call it without any arguments,\n",
    "        in which case you'll get an empty list back."
   ]
  },
  {
   "cell_type": "code",
   "execution_count": 8,
   "id": "02e5771f-5801-496c-8008-9057c10074ad",
   "metadata": {},
   "outputs": [],
   "source": [
    "data = tuple(\n",
    "    ('Mahdi', 'Zarepour', 22)\n",
    ")"
   ]
  },
  {
   "cell_type": "code",
   "execution_count": 9,
   "id": "82ef0ffd-5631-49e9-a18b-a5bc648ae0ed",
   "metadata": {},
   "outputs": [
    {
     "data": {
      "text/plain": [
       "('Mahdi', 'Zarepour', 22)"
      ]
     },
     "execution_count": 9,
     "metadata": {},
     "output_type": "execute_result"
    }
   ],
   "source": [
    "data"
   ]
  },
  {
   "cell_type": "code",
   "execution_count": 10,
   "id": "1a8a1911-0929-4251-94b6-52767d25a0d9",
   "metadata": {},
   "outputs": [],
   "source": [
    "db_query = (\n",
    "    (0, 'Hadi', 18),\n",
    "    (1, 'Homa', 43),\n",
    "    (2, 'Vahid', 24),\n",
    ")"
   ]
  },
  {
   "cell_type": "code",
   "execution_count": 11,
   "id": "f898f8e1-7263-4c2b-b83e-1946f837c05c",
   "metadata": {},
   "outputs": [
    {
     "data": {
      "text/plain": [
       "((0, 'Hadi', 18), (1, 'Homa', 43), (2, 'Vahid', 24))"
      ]
     },
     "execution_count": 11,
     "metadata": {},
     "output_type": "execute_result"
    }
   ],
   "source": [
    "db_query"
   ]
  },
  {
   "cell_type": "markdown",
   "id": "f88059c7-a020-4888-b2b4-9ebb9670e043",
   "metadata": {
    "jp-MarkdownHeadingCollapsed": true
   },
   "source": [
    "## read:\n",
    "    - indexing:\n",
    "        Indexing your list with different indices gives you direct access\n",
    "        to the underlying items\n",
    "    - slicing:\n",
    "        list[start:stop:step]"
   ]
  },
  {
   "cell_type": "code",
   "execution_count": 14,
   "id": "7877de45-a41d-4806-881c-e95eede2bb29",
   "metadata": {},
   "outputs": [
    {
     "data": {
      "text/plain": [
       "((0, 'Hadi', 18), (1, 'Homa', 43), (2, 'Vahid', 24))"
      ]
     },
     "execution_count": 14,
     "metadata": {},
     "output_type": "execute_result"
    }
   ],
   "source": [
    "db_query"
   ]
  },
  {
   "cell_type": "code",
   "execution_count": 12,
   "id": "5087ec3a-daa1-4df6-aacf-d6047915c988",
   "metadata": {},
   "outputs": [
    {
     "data": {
      "text/plain": [
       "(0, 'Hadi', 18)"
      ]
     },
     "execution_count": 12,
     "metadata": {},
     "output_type": "execute_result"
    }
   ],
   "source": [
    "db_query[0]"
   ]
  },
  {
   "cell_type": "code",
   "execution_count": 13,
   "id": "cb17b508-001c-400e-b78b-238e0fa8260e",
   "metadata": {},
   "outputs": [
    {
     "data": {
      "text/plain": [
       "'Hadi'"
      ]
     },
     "execution_count": 13,
     "metadata": {},
     "output_type": "execute_result"
    }
   ],
   "source": [
    "db_query[0][1]"
   ]
  },
  {
   "cell_type": "code",
   "execution_count": 15,
   "id": "4b691903-c638-46e5-9328-d884fe9fa00c",
   "metadata": {},
   "outputs": [
    {
     "data": {
      "text/plain": [
       "((0, 'Hadi', 18), (1, 'Homa', 43))"
      ]
     },
     "execution_count": 15,
     "metadata": {},
     "output_type": "execute_result"
    }
   ],
   "source": [
    "db_query[0:2]"
   ]
  }
 ],
 "metadata": {
  "kernelspec": {
   "display_name": "Python 3 (ipykernel)",
   "language": "python",
   "name": "python3"
  },
  "language_info": {
   "codemirror_mode": {
    "name": "ipython",
    "version": 3
   },
   "file_extension": ".py",
   "mimetype": "text/x-python",
   "name": "python",
   "nbconvert_exporter": "python",
   "pygments_lexer": "ipython3",
   "version": "3.12.4"
  }
 },
 "nbformat": 4,
 "nbformat_minor": 5
}
