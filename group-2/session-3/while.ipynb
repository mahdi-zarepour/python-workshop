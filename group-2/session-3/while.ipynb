{
 "cells": [
  {
   "cell_type": "markdown",
   "id": "d6bc4bcb-70fb-44a7-bf41-8dd059717aa5",
   "metadata": {},
   "source": [
    "# while loop"
   ]
  },
  {
   "cell_type": "code",
   "execution_count": 21,
   "id": "2b96714d-d3d3-4800-9a57-69804290ba75",
   "metadata": {},
   "outputs": [],
   "source": [
    "number = 0"
   ]
  },
  {
   "cell_type": "code",
   "execution_count": 10,
   "id": "2f85c75e-e15c-41fa-8f39-42f5ad440384",
   "metadata": {},
   "outputs": [
    {
     "name": "stdout",
     "output_type": "stream",
     "text": [
      "0\n",
      "1\n",
      "2\n",
      "3\n",
      "4\n"
     ]
    }
   ],
   "source": [
    "while number < 5:\n",
    "    print(number)\n",
    "    number += 1"
   ]
  },
  {
   "cell_type": "code",
   "execution_count": 20,
   "id": "653d00d1-5a41-4e81-8c41-51ac71148c3f",
   "metadata": {
    "scrolled": true
   },
   "outputs": [],
   "source": [
    "# Find Even numbers\n",
    "while number < 10:\n",
    "    if number % 2 == 0:\n",
    "        print(number)\n",
    "    number += 1"
   ]
  },
  {
   "cell_type": "markdown",
   "id": "fd573545-4338-48f9-bf0c-2ce68a90884e",
   "metadata": {},
   "source": [
    "## break"
   ]
  },
  {
   "cell_type": "code",
   "execution_count": 22,
   "id": "fb8cd7de-168b-4c36-8f79-a3744ab0ae7e",
   "metadata": {},
   "outputs": [
    {
     "name": "stdout",
     "output_type": "stream",
     "text": [
      "0\n",
      "1\n",
      "2\n",
      "3\n",
      "The number three was found!!!\n"
     ]
    }
   ],
   "source": [
    "while number < 10:\n",
    "    print(number)\n",
    "    if number == 3:\n",
    "        print('The number three was found!!!')\n",
    "        break\n",
    "    number += 1"
   ]
  },
  {
   "cell_type": "markdown",
   "id": "2711aa2b-2b7e-4388-bb49-f3133a6baa63",
   "metadata": {},
   "source": [
    "## continue"
   ]
  },
  {
   "cell_type": "code",
   "execution_count": 18,
   "id": "241e242f-d746-45ba-8803-590d89925214",
   "metadata": {},
   "outputs": [
    {
     "name": "stdout",
     "output_type": "stream",
     "text": [
      "1\n",
      "2\n",
      "The number three was found!!!\n",
      "4\n",
      "5\n",
      "6\n",
      "7\n",
      "8\n",
      "9\n",
      "10\n"
     ]
    }
   ],
   "source": [
    "while number < 10:\n",
    "    number += 1\n",
    "    if number == 3:\n",
    "        print('The number three was found!!!')\n",
    "        continue\n",
    "    print(number)"
   ]
  },
  {
   "cell_type": "code",
   "execution_count": null,
   "id": "f269d265-8880-486d-bbc4-064a48e662a7",
   "metadata": {},
   "outputs": [],
   "source": []
  }
 ],
 "metadata": {
  "kernelspec": {
   "display_name": "Python 3 (ipykernel)",
   "language": "python",
   "name": "python3"
  },
  "language_info": {
   "codemirror_mode": {
    "name": "ipython",
    "version": 3
   },
   "file_extension": ".py",
   "mimetype": "text/x-python",
   "name": "python",
   "nbconvert_exporter": "python",
   "pygments_lexer": "ipython3",
   "version": "3.12.4"
  }
 },
 "nbformat": 4,
 "nbformat_minor": 5
}
