{
 "cells": [
  {
   "cell_type": "markdown",
   "id": "66d22d7d-d4db-4f60-b7a3-16727a36ea4a",
   "metadata": {},
   "source": [
    "# List"
   ]
  },
  {
   "cell_type": "markdown",
   "id": "17a88dc1-c3f4-4572-8f79-31edda64ec5a",
   "metadata": {
    "jp-MarkdownHeadingCollapsed": true
   },
   "source": [
    "## create:\r\n",
    "    - List literals:\r\n",
    "        They consist of a pair of square brackets enclosing a\r\n",
    "        comma-separated series of objects. Note that you don't\r\n",
    "        have to declare the items' type or the list's size beforehand.\r\n",
    "    - list() constructor:\r\n",
    "        You can call this constructor with any iterable object,\r\n",
    "        including other lists, tuples, sets, dictionaries and\r\n",
    "        their components, strings, and many others.\r\n",
    "        You can also call it without any arguments,\r\n",
    "        in which case you'll get an empty list back."
   ]
  },
  {
   "cell_type": "code",
   "execution_count": 1,
   "id": "292f0693-ce63-4e28-b671-dd5602b1922a",
   "metadata": {},
   "outputs": [],
   "source": [
    "list_class = list(\n",
    "    (1, 2, 3)\n",
    ")"
   ]
  },
  {
   "cell_type": "code",
   "execution_count": 2,
   "id": "ad548496-9e63-4236-8c77-d93bfe67c681",
   "metadata": {},
   "outputs": [
    {
     "data": {
      "text/plain": [
       "[1, 2, 3]"
      ]
     },
     "execution_count": 2,
     "metadata": {},
     "output_type": "execute_result"
    }
   ],
   "source": [
    "list_class"
   ]
  },
  {
   "cell_type": "code",
   "execution_count": 4,
   "id": "95831ac8-ca2a-4c7a-b503-a0faa95792a6",
   "metadata": {},
   "outputs": [],
   "source": [
    "empty_list = list()"
   ]
  },
  {
   "cell_type": "code",
   "execution_count": 5,
   "id": "f3a10885-53f3-4d58-800f-c77a133c3586",
   "metadata": {},
   "outputs": [
    {
     "data": {
      "text/plain": [
       "[]"
      ]
     },
     "execution_count": 5,
     "metadata": {},
     "output_type": "execute_result"
    }
   ],
   "source": [
    "empty_list"
   ]
  },
  {
   "cell_type": "code",
   "execution_count": 8,
   "id": "4565951e-f535-41f2-8b97-c249f1dcdf41",
   "metadata": {},
   "outputs": [],
   "source": [
    "names = ['Mahdi', 'Reza', 'Hamid', 'Fatemeh', 'Zahra', 'Mona']"
   ]
  },
  {
   "cell_type": "code",
   "execution_count": 9,
   "id": "1ad7c520-48de-46ec-af22-b4e076a55847",
   "metadata": {},
   "outputs": [
    {
     "data": {
      "text/plain": [
       "['Mahdi', 'Reza', 'Hamid', 'Fatemeh', 'Zahra', 'Mona']"
      ]
     },
     "execution_count": 9,
     "metadata": {},
     "output_type": "execute_result"
    }
   ],
   "source": [
    "names"
   ]
  },
  {
   "cell_type": "code",
   "execution_count": 11,
   "id": "e92e20df-bd7c-4c87-8fcf-492d1e9ad96b",
   "metadata": {},
   "outputs": [],
   "source": [
    "users = [\n",
    "    ['Mahdi Zarepour', 22],\n",
    "    ['Reza Ghaderie', 32],\n",
    "    ['Mona Mohammadi', 29],\n",
    "    ['Zahra Taghavie', 17],\n",
    "]"
   ]
  },
  {
   "cell_type": "code",
   "execution_count": 12,
   "id": "58073b27-02c8-44f9-8607-4aea2852182c",
   "metadata": {},
   "outputs": [
    {
     "data": {
      "text/plain": [
       "[['Mahdi Zarepour', 22],\n",
       " ['Reza Ghaderie', 32],\n",
       " ['Mona Mohammadi', 29],\n",
       " ['Zahra Taghavie', 17]]"
      ]
     },
     "execution_count": 12,
     "metadata": {},
     "output_type": "execute_result"
    }
   ],
   "source": [
    "users"
   ]
  },
  {
   "cell_type": "markdown",
   "id": "bc2d5d35-2021-45f3-9483-74b6e647900d",
   "metadata": {
    "jp-MarkdownHeadingCollapsed": true
   },
   "source": [
    "## read:\r\n",
    "    - indexing:\r\n",
    "        Indexing your list with different indices gives you direct access\r\n",
    "        to the underlying items\r\n",
    "    - slicing:\r\n",
    "        list[start:stop:step]"
   ]
  },
  {
   "cell_type": "code",
   "execution_count": 14,
   "id": "26c94c10-4932-427e-b358-0a38f4e5c2e3",
   "metadata": {},
   "outputs": [
    {
     "data": {
      "text/plain": [
       "['Mahdi', 'Reza', 'Hamid', 'Fatemeh', 'Zahra', 'Mona']"
      ]
     },
     "execution_count": 14,
     "metadata": {},
     "output_type": "execute_result"
    }
   ],
   "source": [
    "names"
   ]
  },
  {
   "cell_type": "code",
   "execution_count": 18,
   "id": "a52ac982-f212-42b2-acce-b93c418185e4",
   "metadata": {},
   "outputs": [
    {
     "data": {
      "text/plain": [
       "'Mahdi'"
      ]
     },
     "execution_count": 18,
     "metadata": {},
     "output_type": "execute_result"
    }
   ],
   "source": [
    "names[0]"
   ]
  },
  {
   "cell_type": "code",
   "execution_count": 21,
   "id": "d5c9e45b-0731-4322-8a52-ce6a684d48ed",
   "metadata": {},
   "outputs": [
    {
     "data": {
      "text/plain": [
       "['Mahdi', 'Reza', 'Hamid', 'Fatemeh']"
      ]
     },
     "execution_count": 21,
     "metadata": {},
     "output_type": "execute_result"
    }
   ],
   "source": [
    "names[0:4]"
   ]
  },
  {
   "cell_type": "code",
   "execution_count": 23,
   "id": "d7272c0a-233b-44be-aa86-63903eab9957",
   "metadata": {},
   "outputs": [
    {
     "data": {
      "text/plain": [
       "['Mahdi', 'Hamid', 'Zahra']"
      ]
     },
     "execution_count": 23,
     "metadata": {},
     "output_type": "execute_result"
    }
   ],
   "source": [
    "names[0:5:2]"
   ]
  },
  {
   "cell_type": "code",
   "execution_count": 16,
   "id": "1e5ac9d6-0483-4782-9eae-97d452812a82",
   "metadata": {},
   "outputs": [
    {
     "data": {
      "text/plain": [
       "[['Mahdi Zarepour', 22],\n",
       " ['Reza Ghaderie', 32],\n",
       " ['Mona Mohammadi', 29],\n",
       " ['Zahra Taghavie', 17]]"
      ]
     },
     "execution_count": 16,
     "metadata": {},
     "output_type": "execute_result"
    }
   ],
   "source": [
    "users"
   ]
  },
  {
   "cell_type": "code",
   "execution_count": 17,
   "id": "e6ffe147-c330-4329-a93b-791a237492e5",
   "metadata": {},
   "outputs": [
    {
     "data": {
      "text/plain": [
       "['Mahdi Zarepour', 22]"
      ]
     },
     "execution_count": 17,
     "metadata": {},
     "output_type": "execute_result"
    }
   ],
   "source": [
    "users[0]"
   ]
  },
  {
   "cell_type": "code",
   "execution_count": 26,
   "id": "4019d154-4785-489b-8776-efff9313ec15",
   "metadata": {},
   "outputs": [
    {
     "data": {
      "text/plain": [
       "'Mahdi Zarepour'"
      ]
     },
     "execution_count": 26,
     "metadata": {},
     "output_type": "execute_result"
    }
   ],
   "source": [
    "users[0][0]"
   ]
  },
  {
   "cell_type": "markdown",
   "id": "b55a0f35-d35e-48c9-b34d-25aa6c318653",
   "metadata": {
    "jp-MarkdownHeadingCollapsed": true
   },
   "source": [
    "## update:\r\n",
    "    Python lists are mutable data types. This means that you can change their\r\n",
    "    elements without changing the identity of the underlying list.\r\n",
    "    - Index assignment\r\n",
    "    - Slicing assignment"
   ]
  },
  {
   "cell_type": "code",
   "execution_count": 27,
   "id": "d3655f05-779d-46cd-bd0a-39bcbc029fdd",
   "metadata": {},
   "outputs": [
    {
     "data": {
      "text/plain": [
       "['Mahdi', 'Reza', 'Hamid', 'Fatemeh', 'Zahra', 'Mona']"
      ]
     },
     "execution_count": 27,
     "metadata": {},
     "output_type": "execute_result"
    }
   ],
   "source": [
    "names"
   ]
  },
  {
   "cell_type": "code",
   "execution_count": 28,
   "id": "8e497bd9-9ae4-4e95-90ee-f18d55653240",
   "metadata": {},
   "outputs": [],
   "source": [
    "names[1] = 'Arash'"
   ]
  },
  {
   "cell_type": "code",
   "execution_count": 29,
   "id": "77ef7505-637b-4f33-b633-1cbea693f0a1",
   "metadata": {},
   "outputs": [
    {
     "data": {
      "text/plain": [
       "['Mahdi', 'Arash', 'Hamid', 'Fatemeh', 'Zahra', 'Mona']"
      ]
     },
     "execution_count": 29,
     "metadata": {},
     "output_type": "execute_result"
    }
   ],
   "source": [
    "names"
   ]
  },
  {
   "cell_type": "code",
   "execution_count": 32,
   "id": "46f9c55a-d84e-4393-a4c9-5d9f59ee19cf",
   "metadata": {},
   "outputs": [],
   "source": [
    "names[4:6] = ['Armita', 'Bahareh']"
   ]
  },
  {
   "cell_type": "code",
   "execution_count": 33,
   "id": "ba22f847-6a1f-4bae-9ca1-98d7d045e3c7",
   "metadata": {},
   "outputs": [
    {
     "data": {
      "text/plain": [
       "['Mahdi', 'Arash', 'Hamid', 'Fatemeh', 'Armita', 'Bahareh']"
      ]
     },
     "execution_count": 33,
     "metadata": {},
     "output_type": "execute_result"
    }
   ],
   "source": [
    "names"
   ]
  },
  {
   "cell_type": "markdown",
   "id": "13f963d8-ab79-46b2-ae00-fb8757d353d8",
   "metadata": {
    "jp-MarkdownHeadingCollapsed": true
   },
   "source": [
    "## Methods\n",
    "Python list methods are built-in functions that allow us to perform various operations on lists, such as adding, removing, or modifying elements."
   ]
  },
  {
   "cell_type": "markdown",
   "id": "f17494e0-bb2f-4ead-b21e-66035add0cd7",
   "metadata": {
    "jp-MarkdownHeadingCollapsed": true
   },
   "source": [
    "### append\n",
    "Adds an element to the end of the list."
   ]
  },
  {
   "cell_type": "code",
   "execution_count": 41,
   "id": "cb750509-8aab-4517-b24c-4cd4c68dd62f",
   "metadata": {},
   "outputs": [],
   "source": [
    "numbers = [1, 2, 3, 4]"
   ]
  },
  {
   "cell_type": "code",
   "execution_count": 42,
   "id": "874000f3-82b6-4907-bc0e-c38cf56bd317",
   "metadata": {},
   "outputs": [
    {
     "data": {
      "text/plain": [
       "[1, 2, 3, 4]"
      ]
     },
     "execution_count": 42,
     "metadata": {},
     "output_type": "execute_result"
    }
   ],
   "source": [
    "numbers"
   ]
  },
  {
   "cell_type": "code",
   "execution_count": 43,
   "id": "d31a10dc-7268-48d7-88bb-ce78204625bf",
   "metadata": {},
   "outputs": [],
   "source": [
    "numbers.append(5)"
   ]
  },
  {
   "cell_type": "code",
   "execution_count": 44,
   "id": "be537c8d-5f7e-4560-851a-c8ad8df1e10e",
   "metadata": {},
   "outputs": [
    {
     "data": {
      "text/plain": [
       "[1, 2, 3, 4, 5]"
      ]
     },
     "execution_count": 44,
     "metadata": {},
     "output_type": "execute_result"
    }
   ],
   "source": [
    "numbers"
   ]
  },
  {
   "cell_type": "markdown",
   "id": "7d491fd3-3bb4-4cb5-a081-cb17cc7e8261",
   "metadata": {
    "jp-MarkdownHeadingCollapsed": true
   },
   "source": [
    "### pop\n",
    "Removes and returns the element at the specified position (or the last element if no index is specified)."
   ]
  },
  {
   "cell_type": "code",
   "execution_count": 45,
   "id": "a142f4af-9867-469d-ba49-5dcad2d26ae2",
   "metadata": {},
   "outputs": [
    {
     "data": {
      "text/plain": [
       "5"
      ]
     },
     "execution_count": 45,
     "metadata": {},
     "output_type": "execute_result"
    }
   ],
   "source": [
    "numbers.pop()"
   ]
  },
  {
   "cell_type": "code",
   "execution_count": 46,
   "id": "8594dfaf-38d9-4e17-808e-72d3694b58e1",
   "metadata": {},
   "outputs": [
    {
     "data": {
      "text/plain": [
       "[1, 2, 3, 4]"
      ]
     },
     "execution_count": 46,
     "metadata": {},
     "output_type": "execute_result"
    }
   ],
   "source": [
    "numbers"
   ]
  },
  {
   "cell_type": "markdown",
   "id": "1dbabebe-d3e3-4cd3-89a9-32d6de6b4a3e",
   "metadata": {
    "jp-MarkdownHeadingCollapsed": true
   },
   "source": [
    "### clear\n",
    "Removes all elements from the list."
   ]
  },
  {
   "cell_type": "code",
   "execution_count": 39,
   "id": "fd5bffb9-cf4c-42d1-a53c-8fd40a56bd07",
   "metadata": {},
   "outputs": [],
   "source": [
    "numbers.clear()"
   ]
  },
  {
   "cell_type": "code",
   "execution_count": 40,
   "id": "d97a79a5-65cf-4070-b52d-77d25a2843c8",
   "metadata": {},
   "outputs": [
    {
     "data": {
      "text/plain": [
       "[]"
      ]
     },
     "execution_count": 40,
     "metadata": {},
     "output_type": "execute_result"
    }
   ],
   "source": [
    "numbers"
   ]
  }
 ],
 "metadata": {
  "kernelspec": {
   "display_name": "Python 3 (ipykernel)",
   "language": "python",
   "name": "python3"
  },
  "language_info": {
   "codemirror_mode": {
    "name": "ipython",
    "version": 3
   },
   "file_extension": ".py",
   "mimetype": "text/x-python",
   "name": "python",
   "nbconvert_exporter": "python",
   "pygments_lexer": "ipython3",
   "version": "3.12.4"
  }
 },
 "nbformat": 4,
 "nbformat_minor": 5
}
